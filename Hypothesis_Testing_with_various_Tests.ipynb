{
  "nbformat": 4,
  "nbformat_minor": 0,
  "metadata": {
    "colab": {
      "provenance": [],
      "authorship_tag": "ABX9TyMSGADhifwJk0+Mscbb+1ax",
      "include_colab_link": true
    },
    "kernelspec": {
      "name": "python3",
      "display_name": "Python 3"
    },
    "language_info": {
      "name": "python"
    }
  },
  "cells": [
    {
      "cell_type": "markdown",
      "metadata": {
        "id": "view-in-github",
        "colab_type": "text"
      },
      "source": [
        "<a href=\"https://colab.research.google.com/github/gbiamgaurav/Hypothesis-testing-AB-Testing/blob/main/Hypothesis_Testing_with_various_Tests.ipynb\" target=\"_parent\"><img src=\"https://colab.research.google.com/assets/colab-badge.svg\" alt=\"Open In Colab\"/></a>"
      ]
    },
    {
      "cell_type": "markdown",
      "source": [
        "# Hypothesis Testing [cheatsheet for statistical tests](https://machinelearningmastery.com/statistical-hypothesis-tests-in-python-cheat-sheet/)"
      ],
      "metadata": {
        "id": "mpgUMiz6_dL9"
      }
    },
    {
      "cell_type": "markdown",
      "source": [
        "# Normality Tests\n",
        "\n",
        "This section lists statistical tests that you can use to check if your data has a Gaussian distribution.\n",
        "\n",
        "## 1. Shapiro-Wilk Test\n",
        "\n",
        "* Tests whether a data sample has a Gaussian distribution.\n",
        "\n",
        "Assumptions:\n",
        "\n",
        "* Observations in each sample are independent and identically\n",
        " distributed (iid).\n",
        "\n",
        "Interpretation:\n",
        "\n",
        "* H0: the sample has a Gaussian distribution.\n",
        "* H1: the sample does not have a Gaussian distribution."
      ],
      "metadata": {
        "id": "gaNrGiExz0pD"
      }
    },
    {
      "cell_type": "code",
      "execution_count": 1,
      "metadata": {
        "colab": {
          "base_uri": "https://localhost:8080/"
        },
        "id": "-iBBrJJIzsIU",
        "outputId": "52d7764c-0baf-467a-d35d-e00694ebad4b"
      },
      "outputs": [
        {
          "output_type": "stream",
          "name": "stdout",
          "text": [
            "stat=0.895, p=0.193\n",
            "Probably Gaussian\n"
          ]
        }
      ],
      "source": [
        "# Example of the Shapiro-Wilk Normality Test\n",
        "from scipy.stats import shapiro\n",
        "data = [0.873, 2.817, 0.121, -0.945, -0.055, -1.436, 0.360, -1.478, -1.637, -1.869]\n",
        "stat, p = shapiro(data)\n",
        "print('stat=%.3f, p=%.3f' % (stat, p))\n",
        "if p > 0.05:\n",
        " print('Probably Gaussian')\n",
        "else:\n",
        " print('Probably not Gaussian')"
      ]
    },
    {
      "cell_type": "markdown",
      "source": [
        "### Using pingouin\n",
        "\n",
        "check out the documentation here: [Link](https://pingouin-stats.org/build/html/index.html)\n",
        "\n"
      ],
      "metadata": {
        "id": "Zrg2WYwW0w4k"
      }
    },
    {
      "cell_type": "code",
      "source": [
        "## Install pingouin\n",
        "\n",
        "!pip install --upgrade pingouin"
      ],
      "metadata": {
        "colab": {
          "base_uri": "https://localhost:8080/"
        },
        "id": "bXsdiH7y0bfn",
        "outputId": "301c18dc-3fb1-45bf-baf4-1b746d48bfcb"
      },
      "execution_count": 2,
      "outputs": [
        {
          "output_type": "stream",
          "name": "stdout",
          "text": [
            "Collecting pingouin\n",
            "  Downloading pingouin-0.5.4-py2.py3-none-any.whl (198 kB)\n",
            "\u001b[2K     \u001b[90m━━━━━━━━━━━━━━━━━━━━━━━━━━━━━━━━━━━━━━━━\u001b[0m \u001b[32m198.9/198.9 kB\u001b[0m \u001b[31m2.0 MB/s\u001b[0m eta \u001b[36m0:00:00\u001b[0m\n",
            "\u001b[?25hRequirement already satisfied: numpy in /usr/local/lib/python3.10/dist-packages (from pingouin) (1.25.2)\n",
            "Requirement already satisfied: scipy in /usr/local/lib/python3.10/dist-packages (from pingouin) (1.11.4)\n",
            "Requirement already satisfied: pandas>=1.5 in /usr/local/lib/python3.10/dist-packages (from pingouin) (2.0.3)\n",
            "Requirement already satisfied: matplotlib in /usr/local/lib/python3.10/dist-packages (from pingouin) (3.7.1)\n",
            "Requirement already satisfied: seaborn in /usr/local/lib/python3.10/dist-packages (from pingouin) (0.13.1)\n",
            "Requirement already satisfied: statsmodels in /usr/local/lib/python3.10/dist-packages (from pingouin) (0.14.2)\n",
            "Requirement already satisfied: scikit-learn in /usr/local/lib/python3.10/dist-packages (from pingouin) (1.2.2)\n",
            "Collecting pandas-flavor (from pingouin)\n",
            "  Downloading pandas_flavor-0.6.0-py3-none-any.whl (7.2 kB)\n",
            "Requirement already satisfied: tabulate in /usr/local/lib/python3.10/dist-packages (from pingouin) (0.9.0)\n",
            "Requirement already satisfied: python-dateutil>=2.8.2 in /usr/local/lib/python3.10/dist-packages (from pandas>=1.5->pingouin) (2.8.2)\n",
            "Requirement already satisfied: pytz>=2020.1 in /usr/local/lib/python3.10/dist-packages (from pandas>=1.5->pingouin) (2023.4)\n",
            "Requirement already satisfied: tzdata>=2022.1 in /usr/local/lib/python3.10/dist-packages (from pandas>=1.5->pingouin) (2024.1)\n",
            "Requirement already satisfied: contourpy>=1.0.1 in /usr/local/lib/python3.10/dist-packages (from matplotlib->pingouin) (1.2.1)\n",
            "Requirement already satisfied: cycler>=0.10 in /usr/local/lib/python3.10/dist-packages (from matplotlib->pingouin) (0.12.1)\n",
            "Requirement already satisfied: fonttools>=4.22.0 in /usr/local/lib/python3.10/dist-packages (from matplotlib->pingouin) (4.51.0)\n",
            "Requirement already satisfied: kiwisolver>=1.0.1 in /usr/local/lib/python3.10/dist-packages (from matplotlib->pingouin) (1.4.5)\n",
            "Requirement already satisfied: packaging>=20.0 in /usr/local/lib/python3.10/dist-packages (from matplotlib->pingouin) (24.0)\n",
            "Requirement already satisfied: pillow>=6.2.0 in /usr/local/lib/python3.10/dist-packages (from matplotlib->pingouin) (9.4.0)\n",
            "Requirement already satisfied: pyparsing>=2.3.1 in /usr/local/lib/python3.10/dist-packages (from matplotlib->pingouin) (3.1.2)\n",
            "Requirement already satisfied: xarray in /usr/local/lib/python3.10/dist-packages (from pandas-flavor->pingouin) (2023.7.0)\n",
            "Requirement already satisfied: joblib>=1.1.1 in /usr/local/lib/python3.10/dist-packages (from scikit-learn->pingouin) (1.4.0)\n",
            "Requirement already satisfied: threadpoolctl>=2.0.0 in /usr/local/lib/python3.10/dist-packages (from scikit-learn->pingouin) (3.4.0)\n",
            "Requirement already satisfied: patsy>=0.5.6 in /usr/local/lib/python3.10/dist-packages (from statsmodels->pingouin) (0.5.6)\n",
            "Requirement already satisfied: six in /usr/local/lib/python3.10/dist-packages (from patsy>=0.5.6->statsmodels->pingouin) (1.16.0)\n",
            "Installing collected packages: pandas-flavor, pingouin\n",
            "Successfully installed pandas-flavor-0.6.0 pingouin-0.5.4\n"
          ]
        }
      ]
    },
    {
      "cell_type": "code",
      "source": [
        "import pingouin as pg"
      ],
      "metadata": {
        "id": "aoTTtiEw1WvX"
      },
      "execution_count": 3,
      "outputs": []
    },
    {
      "cell_type": "code",
      "source": [
        "data"
      ],
      "metadata": {
        "colab": {
          "base_uri": "https://localhost:8080/"
        },
        "id": "qzLJkthi1aq7",
        "outputId": "2a17d1d0-614a-4a76-c31b-30ba496c0d04"
      },
      "execution_count": 4,
      "outputs": [
        {
          "output_type": "execute_result",
          "data": {
            "text/plain": [
              "[0.873, 2.817, 0.121, -0.945, -0.055, -1.436, 0.36, -1.478, -1.637, -1.869]"
            ]
          },
          "metadata": {},
          "execution_count": 4
        }
      ]
    },
    {
      "cell_type": "code",
      "source": [
        "print(pg.normality(data))"
      ],
      "metadata": {
        "colab": {
          "base_uri": "https://localhost:8080/"
        },
        "id": "pnObhz8O1hYz",
        "outputId": "b59a0c03-13b5-43cf-f44e-e3139295479e"
      },
      "execution_count": 5,
      "outputs": [
        {
          "output_type": "stream",
          "name": "stdout",
          "text": [
            "          W     pval  normal\n",
            "0  0.895101  0.19341    True\n"
          ]
        }
      ]
    },
    {
      "cell_type": "markdown",
      "source": [
        "## 2. D’Agostino’s K^2 Test\n",
        "\n",
        "Tests whether a data sample has a Gaussian distribution.\n",
        "\n",
        "Assumptions:\n",
        "\n",
        "* Observations in each sample are independent and identically distributed (iid).\n",
        "\n",
        "Interpretation:\n",
        "\n",
        "* H0: the sample has a Gaussian distribution.\n",
        "* H1: the sample does not have a Gaussian distribution."
      ],
      "metadata": {
        "id": "QyUFMohT1rFR"
      }
    },
    {
      "cell_type": "code",
      "source": [
        "# Example of the D'Agostino's K^2 Normality Test\n",
        "from scipy.stats import normaltest\n",
        "data = [0.873, 2.817, 0.121, -0.945, -0.055, -1.436, 0.360, -1.478, -1.637, -1.869]\n",
        "stat, p = normaltest(data)\n",
        "print('stat=%.3f, p=%.3f' % (stat, p))\n",
        "if p > 0.05:\n",
        " print('Probably Gaussian')\n",
        "else:\n",
        " print('Probably not Gaussian')"
      ],
      "metadata": {
        "colab": {
          "base_uri": "https://localhost:8080/"
        },
        "id": "6z8AGKSR1k5H",
        "outputId": "57bd5eb8-ee95-4b93-a5d6-929702f4b8cb"
      },
      "execution_count": 6,
      "outputs": [
        {
          "output_type": "stream",
          "name": "stdout",
          "text": [
            "stat=3.392, p=0.183\n",
            "Probably Gaussian\n"
          ]
        },
        {
          "output_type": "stream",
          "name": "stderr",
          "text": [
            "/usr/local/lib/python3.10/dist-packages/scipy/stats/_stats_py.py:1806: UserWarning: kurtosistest only valid for n>=20 ... continuing anyway, n=10\n",
            "  warnings.warn(\"kurtosistest only valid for n>=20 ... continuing \"\n"
          ]
        }
      ]
    },
    {
      "cell_type": "code",
      "source": [
        "print(pg.normality(data))"
      ],
      "metadata": {
        "colab": {
          "base_uri": "https://localhost:8080/"
        },
        "id": "SV9VzF_O2EkP",
        "outputId": "228cff71-24cb-4cbc-ee59-e7a70f315ffc"
      },
      "execution_count": 7,
      "outputs": [
        {
          "output_type": "stream",
          "name": "stdout",
          "text": [
            "          W     pval  normal\n",
            "0  0.895101  0.19341    True\n"
          ]
        }
      ]
    },
    {
      "cell_type": "markdown",
      "source": [
        "## 3. Anderson-Darling Test\n",
        "Tests whether a data sample has a Gaussian distribution.\n",
        "\n",
        "Assumptions:\n",
        "\n",
        "* Observations in each sample are independent and identically distributed (iid).\n",
        "\n",
        "Interpretation:\n",
        "\n",
        "* H0: the sample has a Gaussian distribution.\n",
        "* H1: the sample does not have a Gaussian distribution."
      ],
      "metadata": {
        "id": "-jph818D2RwF"
      }
    },
    {
      "cell_type": "code",
      "source": [
        "# Example of the Anderson-Darling Normality Test\n",
        "from scipy.stats import anderson\n",
        "data = [0.873, 2.817, 0.121, -0.945, -0.055, -1.436, 0.360, -1.478, -1.637, -1.869]\n",
        "result = anderson(data)\n",
        "print('stat=%.3f' % (result.statistic))\n",
        "for i in range(len(result.critical_values)):\n",
        " sl, cv = result.significance_level[i], result.critical_values[i]\n",
        " if result.statistic < cv:\n",
        "  print('Probably Gaussian at the %.1f%% level' % (sl))\n",
        " else:\n",
        "  print('Probably not Gaussian at the %.1f%% level' % (sl))"
      ],
      "metadata": {
        "colab": {
          "base_uri": "https://localhost:8080/"
        },
        "id": "QehKqYz42Tcp",
        "outputId": "d8a6a68a-5bc1-42f2-b7c9-173fefed83cd"
      },
      "execution_count": 8,
      "outputs": [
        {
          "output_type": "stream",
          "name": "stdout",
          "text": [
            "stat=0.424\n",
            "Probably Gaussian at the 15.0% level\n",
            "Probably Gaussian at the 10.0% level\n",
            "Probably Gaussian at the 5.0% level\n",
            "Probably Gaussian at the 2.5% level\n",
            "Probably Gaussian at the 1.0% level\n"
          ]
        }
      ]
    },
    {
      "cell_type": "code",
      "source": [
        "print(pg.normality(data))"
      ],
      "metadata": {
        "colab": {
          "base_uri": "https://localhost:8080/"
        },
        "id": "uf_-rtAU2gdT",
        "outputId": "00904a0c-6eab-4418-a9e9-6f0f0baebda2"
      },
      "execution_count": 9,
      "outputs": [
        {
          "output_type": "stream",
          "name": "stdout",
          "text": [
            "          W     pval  normal\n",
            "0  0.895101  0.19341    True\n"
          ]
        }
      ]
    },
    {
      "cell_type": "code",
      "source": [
        "from scipy.stats import anderson\n",
        "data = [0.873, 2.817, 0.121, -0.945, -0.055, -1.436, 0.360, -1.478, -1.637, -1.869, 3.2458, 5.2451, 10.4523] ## make some changes in the data\n",
        "result = anderson(data)\n",
        "print('stat=%.3f' % (result.statistic))\n",
        "for i in range(len(result.critical_values)):\n",
        " sl, cv = result.significance_level[i], result.critical_values[i]\n",
        " if result.statistic < cv:\n",
        "  print('Probably Gaussian at the %.1f%% level' % (sl))\n",
        " else:\n",
        "  print('Probably not Gaussian at the %.1f%% level' % (sl))"
      ],
      "metadata": {
        "colab": {
          "base_uri": "https://localhost:8080/"
        },
        "id": "kx3VGoTG2kaw",
        "outputId": "1ef71a0c-5eca-4e61-b2b1-58e232125b66"
      },
      "execution_count": 16,
      "outputs": [
        {
          "output_type": "stream",
          "name": "stdout",
          "text": [
            "stat=0.880\n",
            "Probably not Gaussian at the 15.0% level\n",
            "Probably not Gaussian at the 10.0% level\n",
            "Probably not Gaussian at the 5.0% level\n",
            "Probably not Gaussian at the 2.5% level\n",
            "Probably Gaussian at the 1.0% level\n"
          ]
        }
      ]
    },
    {
      "cell_type": "code",
      "source": [
        "print(pg.normality(data))"
      ],
      "metadata": {
        "colab": {
          "base_uri": "https://localhost:8080/"
        },
        "id": "0gtamT7l2rZi",
        "outputId": "8c570d4c-1529-49fd-a3c0-eefae36e5f69"
      },
      "execution_count": 17,
      "outputs": [
        {
          "output_type": "stream",
          "name": "stdout",
          "text": [
            "          W      pval  normal\n",
            "0  0.811561  0.009383   False\n"
          ]
        }
      ]
    },
    {
      "cell_type": "markdown",
      "source": [
        "# Correlation Tests\n",
        "\n",
        "This section lists statistical tests that you can use to check if two samples are related.\n",
        "\n",
        "## 1. Pearson’s Correlation Coefficient\n",
        "Tests whether two samples have a linear relationship.\n",
        "\n",
        "Assumptions:\n",
        "\n",
        "* Observations in each sample are independent and identically distributed (iid).\n",
        "* Observations in each sample are normally distributed.\n",
        "* Observations in each sample have the same variance.\n",
        "\n",
        "Interpretation:\n",
        "\n",
        "* H0: the two samples are independent.\n",
        "* H1: there is a dependency between the samples."
      ],
      "metadata": {
        "id": "FjZcM6jp2-a4"
      }
    },
    {
      "cell_type": "code",
      "source": [
        "# Example of the Pearson's Correlation test\n",
        "from scipy.stats import pearsonr\n",
        "data1 = [0.873, 2.817, 0.121, -0.945, -0.055, -1.436, 0.360, -1.478, -1.637, -1.869]\n",
        "data2 = [0.353, 3.517, 0.125, -7.545, -0.555, -1.536, 3.350, -1.578, -3.537, -1.579]\n",
        "stat, p = pearsonr(data1, data2)\n",
        "print('stat=%.3f, p=%.3f' % (stat, p))\n",
        "if p > 0.05:\n",
        " print('Probably independent, Fail to reject the null hypothesis')\n",
        "else:\n",
        " print('Probably dependent, Reject the null hypothesis')"
      ],
      "metadata": {
        "colab": {
          "base_uri": "https://localhost:8080/"
        },
        "id": "C1ueU_ND2xcu",
        "outputId": "28b84d23-d72e-4194-dd91-1d90fea3bd45"
      },
      "execution_count": 22,
      "outputs": [
        {
          "output_type": "stream",
          "name": "stdout",
          "text": [
            "stat=0.688, p=0.028\n",
            "Probably dependent, Reject the null hypothesis\n"
          ]
        }
      ]
    },
    {
      "cell_type": "code",
      "source": [
        "## use pingouin for correlation\n",
        "\n",
        "print(pg.corr(data1, data2))"
      ],
      "metadata": {
        "colab": {
          "base_uri": "https://localhost:8080/"
        },
        "id": "hE1YS_d63XPb",
        "outputId": "38f39900-49d5-49fa-a34c-e5306d57e31e"
      },
      "execution_count": 23,
      "outputs": [
        {
          "output_type": "stream",
          "name": "stdout",
          "text": [
            "          n        r        CI95%     p-val   BF10     power\n",
            "pearson  10  0.68797  [0.1, 0.92]  0.027873  3.247  0.642242\n"
          ]
        }
      ]
    },
    {
      "cell_type": "markdown",
      "source": [
        "## 2. Spearman’s Rank Correlation\n",
        "Tests whether two samples have a monotonic relationship.\n",
        "\n",
        "Assumptions:\n",
        "\n",
        "* Observations in each sample are independent and identically distributed (iid).\n",
        "* Observations in each sample can be ranked.\n",
        "\n",
        "Interpretation:\n",
        "\n",
        "* H0: the two samples are independent.\n",
        "* H1: there is a dependency between the samples."
      ],
      "metadata": {
        "id": "hC4judF24Q4u"
      }
    },
    {
      "cell_type": "code",
      "source": [
        "# Example of the Spearman's Rank Correlation Test\n",
        "from scipy.stats import spearmanr\n",
        "data1 = [0.873, 2.817, 0.121, -0.945, -0.055, -1.436, 0.360, -1.478, -1.637, -1.869]\n",
        "data2 = [0.353, 3.517, 0.125, -7.545, -0.555, -1.536, 3.350, -1.578, -3.537, -1.579]\n",
        "stat, p = spearmanr(data1, data2)\n",
        "print('stat=%.3f, p=%.3f' % (stat, p))\n",
        "if p > 0.05:\n",
        " print('Probably independent, fail to reject the null hypothesis')\n",
        "else:\n",
        " print('Probably dependent, reject the null hypothesis')"
      ],
      "metadata": {
        "colab": {
          "base_uri": "https://localhost:8080/"
        },
        "id": "TSwt0ly53idm",
        "outputId": "fd61a3ac-003d-402b-deb0-705208f6e3ed"
      },
      "execution_count": 24,
      "outputs": [
        {
          "output_type": "stream",
          "name": "stdout",
          "text": [
            "stat=0.855, p=0.002\n",
            "Probably dependent, reject the null hypothesis\n"
          ]
        }
      ]
    },
    {
      "cell_type": "code",
      "source": [
        "print(pg.corr(data1, data2))"
      ],
      "metadata": {
        "colab": {
          "base_uri": "https://localhost:8080/"
        },
        "id": "Ze3OwS9T4g9L",
        "outputId": "78844a58-69b2-4952-a236-fd33ee6785a0"
      },
      "execution_count": 25,
      "outputs": [
        {
          "output_type": "stream",
          "name": "stdout",
          "text": [
            "          n        r        CI95%     p-val   BF10     power\n",
            "pearson  10  0.68797  [0.1, 0.92]  0.027873  3.247  0.642242\n"
          ]
        }
      ]
    },
    {
      "cell_type": "markdown",
      "source": [
        "## 3. Kendall’s Rank Correlation\n",
        "Tests whether two samples have a monotonic relationship.\n",
        "\n",
        "Assumptions:\n",
        "\n",
        "* Observations in each sample are independent and identically distributed (iid).\n",
        "* Observations in each sample can be ranked.\n",
        "\n",
        "Interpretation:\n",
        "\n",
        "* H0: the two samples are independent.\n",
        "* H1: there is a dependency between the samples."
      ],
      "metadata": {
        "id": "PDKWjxVo4qB5"
      }
    },
    {
      "cell_type": "code",
      "source": [
        "# Example of the Kendall's Rank Correlation Test\n",
        "from scipy.stats import kendalltau\n",
        "data1 = [0.873, 2.817, 0.121, -0.945, -0.055, -1.436, 0.360, -1.478, -1.637, -1.869]\n",
        "data2 = [0.353, 3.517, 0.125, -7.545, -0.555, -1.536, 3.350, -1.578, -3.537, -1.579]\n",
        "stat, p = kendalltau(data1, data2)\n",
        "print('stat=%.3f, p=%.3f' % (stat, p))\n",
        "if p > 0.05:\n",
        " print('Probably independent, fail to reject the null hypothesis')\n",
        "else:\n",
        " print('Probably dependent, reject the null hypothesis')"
      ],
      "metadata": {
        "colab": {
          "base_uri": "https://localhost:8080/"
        },
        "id": "cT-jUJQt4lWo",
        "outputId": "b97543d6-5dba-4ffb-aa53-b31df4e4a532"
      },
      "execution_count": 31,
      "outputs": [
        {
          "output_type": "stream",
          "name": "stdout",
          "text": [
            "stat=0.733, p=0.002\n",
            "Probably dependent, reject the null hypothesis\n"
          ]
        }
      ]
    },
    {
      "cell_type": "code",
      "source": [
        "print(pg.corr(data1, data2))"
      ],
      "metadata": {
        "colab": {
          "base_uri": "https://localhost:8080/"
        },
        "id": "TrApgC2I4--j",
        "outputId": "9244df0e-7b62-4ea9-b0be-fe91337de627"
      },
      "execution_count": 32,
      "outputs": [
        {
          "output_type": "stream",
          "name": "stdout",
          "text": [
            "          n        r        CI95%     p-val   BF10     power\n",
            "pearson  10  0.68797  [0.1, 0.92]  0.027873  3.247  0.642242\n"
          ]
        }
      ]
    },
    {
      "cell_type": "markdown",
      "source": [
        "## Chi-Squared Test\n",
        "Tests whether two categorical variables are related or independent.\n",
        "\n",
        "Assumptions:\n",
        "\n",
        "* Observations used in the calculation of the contingency table are independent.\n",
        "* 25 or more examples in each cell of the contingency table.\n",
        "\n",
        "Interpretation:\n",
        "\n",
        "* H0: the two samples are independent.\n",
        "* H1: there is a dependency between the samples."
      ],
      "metadata": {
        "id": "9xESk0-w5fYL"
      }
    },
    {
      "cell_type": "code",
      "source": [
        "# Example of the Chi-Squared Test\n",
        "from scipy.stats import chi2_contingency\n",
        "table = [[10, 20, 30],[6,  9,  17]]\n",
        "stat, p, dof, expected = chi2_contingency(table)\n",
        "print('stat=%.3f, p=%.3f' % (stat, p))\n",
        "if p > 0.05:\n",
        " print('Probably independent')\n",
        "else:\n",
        " print('Probably dependent')"
      ],
      "metadata": {
        "colab": {
          "base_uri": "https://localhost:8080/"
        },
        "id": "folf8Tys5Kk1",
        "outputId": "c730329e-d335-4701-9760-515e9d65f568"
      },
      "execution_count": 33,
      "outputs": [
        {
          "output_type": "stream",
          "name": "stdout",
          "text": [
            "stat=0.272, p=0.873\n",
            "Probably independent\n"
          ]
        }
      ]
    },
    {
      "cell_type": "code",
      "source": [
        "## using pingouin\n",
        "\n",
        "data = pg.read_dataset('chi2_independence')\n",
        "expected, observed, stats = pg.chi2_independence(data, x='sex', y='target')\n",
        "stats"
      ],
      "metadata": {
        "colab": {
          "base_uri": "https://localhost:8080/",
          "height": 237
        },
        "id": "0o4kbAlI5sVb",
        "outputId": "461f84c8-8f20-49a1-92f0-dc2718072013"
      },
      "execution_count": 34,
      "outputs": [
        {
          "output_type": "execute_result",
          "data": {
            "text/plain": [
              "                 test    lambda       chi2  dof          pval    cramer  \\\n",
              "0             pearson  1.000000  22.717227  1.0  1.876778e-06  0.273814   \n",
              "1        cressie-read  0.666667  22.931427  1.0  1.678845e-06  0.275102   \n",
              "2      log-likelihood  0.000000  23.557374  1.0  1.212439e-06  0.278832   \n",
              "3       freeman-tukey -0.500000  24.219622  1.0  8.595211e-07  0.282724   \n",
              "4  mod-log-likelihood -1.000000  25.071078  1.0  5.525544e-07  0.287651   \n",
              "5              neyman -2.000000  27.457956  1.0  1.605471e-07  0.301032   \n",
              "\n",
              "      power  \n",
              "0  0.997494  \n",
              "1  0.997663  \n",
              "2  0.998096  \n",
              "3  0.998469  \n",
              "4  0.998845  \n",
              "5  0.999481  "
            ],
            "text/html": [
              "\n",
              "  <div id=\"df-67d49acb-6fd6-4307-85c4-7d98bd515aec\" class=\"colab-df-container\">\n",
              "    <div>\n",
              "<style scoped>\n",
              "    .dataframe tbody tr th:only-of-type {\n",
              "        vertical-align: middle;\n",
              "    }\n",
              "\n",
              "    .dataframe tbody tr th {\n",
              "        vertical-align: top;\n",
              "    }\n",
              "\n",
              "    .dataframe thead th {\n",
              "        text-align: right;\n",
              "    }\n",
              "</style>\n",
              "<table border=\"1\" class=\"dataframe\">\n",
              "  <thead>\n",
              "    <tr style=\"text-align: right;\">\n",
              "      <th></th>\n",
              "      <th>test</th>\n",
              "      <th>lambda</th>\n",
              "      <th>chi2</th>\n",
              "      <th>dof</th>\n",
              "      <th>pval</th>\n",
              "      <th>cramer</th>\n",
              "      <th>power</th>\n",
              "    </tr>\n",
              "  </thead>\n",
              "  <tbody>\n",
              "    <tr>\n",
              "      <th>0</th>\n",
              "      <td>pearson</td>\n",
              "      <td>1.000000</td>\n",
              "      <td>22.717227</td>\n",
              "      <td>1.0</td>\n",
              "      <td>1.876778e-06</td>\n",
              "      <td>0.273814</td>\n",
              "      <td>0.997494</td>\n",
              "    </tr>\n",
              "    <tr>\n",
              "      <th>1</th>\n",
              "      <td>cressie-read</td>\n",
              "      <td>0.666667</td>\n",
              "      <td>22.931427</td>\n",
              "      <td>1.0</td>\n",
              "      <td>1.678845e-06</td>\n",
              "      <td>0.275102</td>\n",
              "      <td>0.997663</td>\n",
              "    </tr>\n",
              "    <tr>\n",
              "      <th>2</th>\n",
              "      <td>log-likelihood</td>\n",
              "      <td>0.000000</td>\n",
              "      <td>23.557374</td>\n",
              "      <td>1.0</td>\n",
              "      <td>1.212439e-06</td>\n",
              "      <td>0.278832</td>\n",
              "      <td>0.998096</td>\n",
              "    </tr>\n",
              "    <tr>\n",
              "      <th>3</th>\n",
              "      <td>freeman-tukey</td>\n",
              "      <td>-0.500000</td>\n",
              "      <td>24.219622</td>\n",
              "      <td>1.0</td>\n",
              "      <td>8.595211e-07</td>\n",
              "      <td>0.282724</td>\n",
              "      <td>0.998469</td>\n",
              "    </tr>\n",
              "    <tr>\n",
              "      <th>4</th>\n",
              "      <td>mod-log-likelihood</td>\n",
              "      <td>-1.000000</td>\n",
              "      <td>25.071078</td>\n",
              "      <td>1.0</td>\n",
              "      <td>5.525544e-07</td>\n",
              "      <td>0.287651</td>\n",
              "      <td>0.998845</td>\n",
              "    </tr>\n",
              "    <tr>\n",
              "      <th>5</th>\n",
              "      <td>neyman</td>\n",
              "      <td>-2.000000</td>\n",
              "      <td>27.457956</td>\n",
              "      <td>1.0</td>\n",
              "      <td>1.605471e-07</td>\n",
              "      <td>0.301032</td>\n",
              "      <td>0.999481</td>\n",
              "    </tr>\n",
              "  </tbody>\n",
              "</table>\n",
              "</div>\n",
              "    <div class=\"colab-df-buttons\">\n",
              "\n",
              "  <div class=\"colab-df-container\">\n",
              "    <button class=\"colab-df-convert\" onclick=\"convertToInteractive('df-67d49acb-6fd6-4307-85c4-7d98bd515aec')\"\n",
              "            title=\"Convert this dataframe to an interactive table.\"\n",
              "            style=\"display:none;\">\n",
              "\n",
              "  <svg xmlns=\"http://www.w3.org/2000/svg\" height=\"24px\" viewBox=\"0 -960 960 960\">\n",
              "    <path d=\"M120-120v-720h720v720H120Zm60-500h600v-160H180v160Zm220 220h160v-160H400v160Zm0 220h160v-160H400v160ZM180-400h160v-160H180v160Zm440 0h160v-160H620v160ZM180-180h160v-160H180v160Zm440 0h160v-160H620v160Z\"/>\n",
              "  </svg>\n",
              "    </button>\n",
              "\n",
              "  <style>\n",
              "    .colab-df-container {\n",
              "      display:flex;\n",
              "      gap: 12px;\n",
              "    }\n",
              "\n",
              "    .colab-df-convert {\n",
              "      background-color: #E8F0FE;\n",
              "      border: none;\n",
              "      border-radius: 50%;\n",
              "      cursor: pointer;\n",
              "      display: none;\n",
              "      fill: #1967D2;\n",
              "      height: 32px;\n",
              "      padding: 0 0 0 0;\n",
              "      width: 32px;\n",
              "    }\n",
              "\n",
              "    .colab-df-convert:hover {\n",
              "      background-color: #E2EBFA;\n",
              "      box-shadow: 0px 1px 2px rgba(60, 64, 67, 0.3), 0px 1px 3px 1px rgba(60, 64, 67, 0.15);\n",
              "      fill: #174EA6;\n",
              "    }\n",
              "\n",
              "    .colab-df-buttons div {\n",
              "      margin-bottom: 4px;\n",
              "    }\n",
              "\n",
              "    [theme=dark] .colab-df-convert {\n",
              "      background-color: #3B4455;\n",
              "      fill: #D2E3FC;\n",
              "    }\n",
              "\n",
              "    [theme=dark] .colab-df-convert:hover {\n",
              "      background-color: #434B5C;\n",
              "      box-shadow: 0px 1px 3px 1px rgba(0, 0, 0, 0.15);\n",
              "      filter: drop-shadow(0px 1px 2px rgba(0, 0, 0, 0.3));\n",
              "      fill: #FFFFFF;\n",
              "    }\n",
              "  </style>\n",
              "\n",
              "    <script>\n",
              "      const buttonEl =\n",
              "        document.querySelector('#df-67d49acb-6fd6-4307-85c4-7d98bd515aec button.colab-df-convert');\n",
              "      buttonEl.style.display =\n",
              "        google.colab.kernel.accessAllowed ? 'block' : 'none';\n",
              "\n",
              "      async function convertToInteractive(key) {\n",
              "        const element = document.querySelector('#df-67d49acb-6fd6-4307-85c4-7d98bd515aec');\n",
              "        const dataTable =\n",
              "          await google.colab.kernel.invokeFunction('convertToInteractive',\n",
              "                                                    [key], {});\n",
              "        if (!dataTable) return;\n",
              "\n",
              "        const docLinkHtml = 'Like what you see? Visit the ' +\n",
              "          '<a target=\"_blank\" href=https://colab.research.google.com/notebooks/data_table.ipynb>data table notebook</a>'\n",
              "          + ' to learn more about interactive tables.';\n",
              "        element.innerHTML = '';\n",
              "        dataTable['output_type'] = 'display_data';\n",
              "        await google.colab.output.renderOutput(dataTable, element);\n",
              "        const docLink = document.createElement('div');\n",
              "        docLink.innerHTML = docLinkHtml;\n",
              "        element.appendChild(docLink);\n",
              "      }\n",
              "    </script>\n",
              "  </div>\n",
              "\n",
              "\n",
              "<div id=\"df-2fa89b3a-5838-4f59-8532-012c6efec932\">\n",
              "  <button class=\"colab-df-quickchart\" onclick=\"quickchart('df-2fa89b3a-5838-4f59-8532-012c6efec932')\"\n",
              "            title=\"Suggest charts\"\n",
              "            style=\"display:none;\">\n",
              "\n",
              "<svg xmlns=\"http://www.w3.org/2000/svg\" height=\"24px\"viewBox=\"0 0 24 24\"\n",
              "     width=\"24px\">\n",
              "    <g>\n",
              "        <path d=\"M19 3H5c-1.1 0-2 .9-2 2v14c0 1.1.9 2 2 2h14c1.1 0 2-.9 2-2V5c0-1.1-.9-2-2-2zM9 17H7v-7h2v7zm4 0h-2V7h2v10zm4 0h-2v-4h2v4z\"/>\n",
              "    </g>\n",
              "</svg>\n",
              "  </button>\n",
              "\n",
              "<style>\n",
              "  .colab-df-quickchart {\n",
              "      --bg-color: #E8F0FE;\n",
              "      --fill-color: #1967D2;\n",
              "      --hover-bg-color: #E2EBFA;\n",
              "      --hover-fill-color: #174EA6;\n",
              "      --disabled-fill-color: #AAA;\n",
              "      --disabled-bg-color: #DDD;\n",
              "  }\n",
              "\n",
              "  [theme=dark] .colab-df-quickchart {\n",
              "      --bg-color: #3B4455;\n",
              "      --fill-color: #D2E3FC;\n",
              "      --hover-bg-color: #434B5C;\n",
              "      --hover-fill-color: #FFFFFF;\n",
              "      --disabled-bg-color: #3B4455;\n",
              "      --disabled-fill-color: #666;\n",
              "  }\n",
              "\n",
              "  .colab-df-quickchart {\n",
              "    background-color: var(--bg-color);\n",
              "    border: none;\n",
              "    border-radius: 50%;\n",
              "    cursor: pointer;\n",
              "    display: none;\n",
              "    fill: var(--fill-color);\n",
              "    height: 32px;\n",
              "    padding: 0;\n",
              "    width: 32px;\n",
              "  }\n",
              "\n",
              "  .colab-df-quickchart:hover {\n",
              "    background-color: var(--hover-bg-color);\n",
              "    box-shadow: 0 1px 2px rgba(60, 64, 67, 0.3), 0 1px 3px 1px rgba(60, 64, 67, 0.15);\n",
              "    fill: var(--button-hover-fill-color);\n",
              "  }\n",
              "\n",
              "  .colab-df-quickchart-complete:disabled,\n",
              "  .colab-df-quickchart-complete:disabled:hover {\n",
              "    background-color: var(--disabled-bg-color);\n",
              "    fill: var(--disabled-fill-color);\n",
              "    box-shadow: none;\n",
              "  }\n",
              "\n",
              "  .colab-df-spinner {\n",
              "    border: 2px solid var(--fill-color);\n",
              "    border-color: transparent;\n",
              "    border-bottom-color: var(--fill-color);\n",
              "    animation:\n",
              "      spin 1s steps(1) infinite;\n",
              "  }\n",
              "\n",
              "  @keyframes spin {\n",
              "    0% {\n",
              "      border-color: transparent;\n",
              "      border-bottom-color: var(--fill-color);\n",
              "      border-left-color: var(--fill-color);\n",
              "    }\n",
              "    20% {\n",
              "      border-color: transparent;\n",
              "      border-left-color: var(--fill-color);\n",
              "      border-top-color: var(--fill-color);\n",
              "    }\n",
              "    30% {\n",
              "      border-color: transparent;\n",
              "      border-left-color: var(--fill-color);\n",
              "      border-top-color: var(--fill-color);\n",
              "      border-right-color: var(--fill-color);\n",
              "    }\n",
              "    40% {\n",
              "      border-color: transparent;\n",
              "      border-right-color: var(--fill-color);\n",
              "      border-top-color: var(--fill-color);\n",
              "    }\n",
              "    60% {\n",
              "      border-color: transparent;\n",
              "      border-right-color: var(--fill-color);\n",
              "    }\n",
              "    80% {\n",
              "      border-color: transparent;\n",
              "      border-right-color: var(--fill-color);\n",
              "      border-bottom-color: var(--fill-color);\n",
              "    }\n",
              "    90% {\n",
              "      border-color: transparent;\n",
              "      border-bottom-color: var(--fill-color);\n",
              "    }\n",
              "  }\n",
              "</style>\n",
              "\n",
              "  <script>\n",
              "    async function quickchart(key) {\n",
              "      const quickchartButtonEl =\n",
              "        document.querySelector('#' + key + ' button');\n",
              "      quickchartButtonEl.disabled = true;  // To prevent multiple clicks.\n",
              "      quickchartButtonEl.classList.add('colab-df-spinner');\n",
              "      try {\n",
              "        const charts = await google.colab.kernel.invokeFunction(\n",
              "            'suggestCharts', [key], {});\n",
              "      } catch (error) {\n",
              "        console.error('Error during call to suggestCharts:', error);\n",
              "      }\n",
              "      quickchartButtonEl.classList.remove('colab-df-spinner');\n",
              "      quickchartButtonEl.classList.add('colab-df-quickchart-complete');\n",
              "    }\n",
              "    (() => {\n",
              "      let quickchartButtonEl =\n",
              "        document.querySelector('#df-2fa89b3a-5838-4f59-8532-012c6efec932 button');\n",
              "      quickchartButtonEl.style.display =\n",
              "        google.colab.kernel.accessAllowed ? 'block' : 'none';\n",
              "    })();\n",
              "  </script>\n",
              "</div>\n",
              "\n",
              "  <div id=\"id_c326a10f-31a3-4a1c-abf7-743ba4d88f14\">\n",
              "    <style>\n",
              "      .colab-df-generate {\n",
              "        background-color: #E8F0FE;\n",
              "        border: none;\n",
              "        border-radius: 50%;\n",
              "        cursor: pointer;\n",
              "        display: none;\n",
              "        fill: #1967D2;\n",
              "        height: 32px;\n",
              "        padding: 0 0 0 0;\n",
              "        width: 32px;\n",
              "      }\n",
              "\n",
              "      .colab-df-generate:hover {\n",
              "        background-color: #E2EBFA;\n",
              "        box-shadow: 0px 1px 2px rgba(60, 64, 67, 0.3), 0px 1px 3px 1px rgba(60, 64, 67, 0.15);\n",
              "        fill: #174EA6;\n",
              "      }\n",
              "\n",
              "      [theme=dark] .colab-df-generate {\n",
              "        background-color: #3B4455;\n",
              "        fill: #D2E3FC;\n",
              "      }\n",
              "\n",
              "      [theme=dark] .colab-df-generate:hover {\n",
              "        background-color: #434B5C;\n",
              "        box-shadow: 0px 1px 3px 1px rgba(0, 0, 0, 0.15);\n",
              "        filter: drop-shadow(0px 1px 2px rgba(0, 0, 0, 0.3));\n",
              "        fill: #FFFFFF;\n",
              "      }\n",
              "    </style>\n",
              "    <button class=\"colab-df-generate\" onclick=\"generateWithVariable('stats')\"\n",
              "            title=\"Generate code using this dataframe.\"\n",
              "            style=\"display:none;\">\n",
              "\n",
              "  <svg xmlns=\"http://www.w3.org/2000/svg\" height=\"24px\"viewBox=\"0 0 24 24\"\n",
              "       width=\"24px\">\n",
              "    <path d=\"M7,19H8.4L18.45,9,17,7.55,7,17.6ZM5,21V16.75L18.45,3.32a2,2,0,0,1,2.83,0l1.4,1.43a1.91,1.91,0,0,1,.58,1.4,1.91,1.91,0,0,1-.58,1.4L9.25,21ZM18.45,9,17,7.55Zm-12,3A5.31,5.31,0,0,0,4.9,8.1,5.31,5.31,0,0,0,1,6.5,5.31,5.31,0,0,0,4.9,4.9,5.31,5.31,0,0,0,6.5,1,5.31,5.31,0,0,0,8.1,4.9,5.31,5.31,0,0,0,12,6.5,5.46,5.46,0,0,0,6.5,12Z\"/>\n",
              "  </svg>\n",
              "    </button>\n",
              "    <script>\n",
              "      (() => {\n",
              "      const buttonEl =\n",
              "        document.querySelector('#id_c326a10f-31a3-4a1c-abf7-743ba4d88f14 button.colab-df-generate');\n",
              "      buttonEl.style.display =\n",
              "        google.colab.kernel.accessAllowed ? 'block' : 'none';\n",
              "\n",
              "      buttonEl.onclick = () => {\n",
              "        google.colab.notebook.generateWithVariable('stats');\n",
              "      }\n",
              "      })();\n",
              "    </script>\n",
              "  </div>\n",
              "\n",
              "    </div>\n",
              "  </div>\n"
            ],
            "application/vnd.google.colaboratory.intrinsic+json": {
              "type": "dataframe",
              "variable_name": "stats",
              "summary": "{\n  \"name\": \"stats\",\n  \"rows\": 6,\n  \"fields\": [\n    {\n      \"column\": \"test\",\n      \"properties\": {\n        \"dtype\": \"string\",\n        \"num_unique_values\": 6,\n        \"samples\": [\n          \"pearson\",\n          \"cressie-read\",\n          \"neyman\"\n        ],\n        \"semantic_type\": \"\",\n        \"description\": \"\"\n      }\n    },\n    {\n      \"column\": \"lambda\",\n      \"properties\": {\n        \"dtype\": \"number\",\n        \"std\": 1.107633446520938,\n        \"min\": -2.0,\n        \"max\": 1.0,\n        \"num_unique_values\": 6,\n        \"samples\": [\n          1.0,\n          0.6666666666666666,\n          -2.0\n        ],\n        \"semantic_type\": \"\",\n        \"description\": \"\"\n      }\n    },\n    {\n      \"column\": \"chi2\",\n      \"properties\": {\n        \"dtype\": \"number\",\n        \"std\": 1.7606462024905074,\n        \"min\": 22.717227046576355,\n        \"max\": 27.45795577771814,\n        \"num_unique_values\": 6,\n        \"samples\": [\n          22.717227046576355,\n          22.931426516757252,\n          27.45795577771814\n        ],\n        \"semantic_type\": \"\",\n        \"description\": \"\"\n      }\n    },\n    {\n      \"column\": \"dof\",\n      \"properties\": {\n        \"dtype\": \"number\",\n        \"std\": 0.0,\n        \"min\": 1.0,\n        \"max\": 1.0,\n        \"num_unique_values\": 1,\n        \"samples\": [\n          1.0\n        ],\n        \"semantic_type\": \"\",\n        \"description\": \"\"\n      }\n    },\n    {\n      \"column\": \"pval\",\n      \"properties\": {\n        \"dtype\": \"number\",\n        \"std\": 6.602997696817623e-07,\n        \"min\": 1.605470596161932e-07,\n        \"max\": 1.8767776216941503e-06,\n        \"num_unique_values\": 6,\n        \"samples\": [\n          1.8767776216941503e-06\n        ],\n        \"semantic_type\": \"\",\n        \"description\": \"\"\n      }\n    },\n    {\n      \"column\": \"cramer\",\n      \"properties\": {\n        \"dtype\": \"number\",\n        \"std\": 0.010107033405668242,\n        \"min\": 0.27381443842202846,\n        \"max\": 0.3010320848316333,\n        \"num_unique_values\": 6,\n        \"samples\": [\n          0.27381443842202846\n        ],\n        \"semantic_type\": \"\",\n        \"description\": \"\"\n      }\n    },\n    {\n      \"column\": \"power\",\n      \"properties\": {\n        \"dtype\": \"number\",\n        \"std\": 0.0007491848180532634,\n        \"min\": 0.997494262465968,\n        \"max\": 0.9994810932662033,\n        \"num_unique_values\": 6,\n        \"samples\": [\n          0.997494262465968\n        ],\n        \"semantic_type\": \"\",\n        \"description\": \"\"\n      }\n    }\n  ]\n}"
            }
          },
          "metadata": {},
          "execution_count": 34
        }
      ]
    },
    {
      "cell_type": "markdown",
      "source": [
        "# Stationary Tests\n",
        "This section lists statistical tests that you can use to check if a time series is stationary or not.\n",
        "\n",
        "## 1. Augmented Dickey-Fuller Unit Root Test\n",
        "Tests whether a time series has a unit root, e.g. has a trend or more generally is autoregressive.\n",
        "\n",
        "Assumptions:\n",
        "\n",
        "* Observations in are temporally ordered.\n",
        "\n",
        "Interpretation:\n",
        "\n",
        "* H0: a unit root is present (series is non-stationary).\n",
        "* H1: a unit root is not present (series is stationary)."
      ],
      "metadata": {
        "id": "_9MpK6Ss6Pyj"
      }
    },
    {
      "cell_type": "code",
      "source": [
        "# Example of the Augmented Dickey-Fuller unit root test\n",
        "from statsmodels.tsa.stattools import adfuller\n",
        "data = [0, 1, 2, 3, 4, 5, 6, 7, 8, 9]\n",
        "stat, p, lags, obs, crit, t = adfuller(data)\n",
        "print('stat=%.3f, p=%.3f' % (stat, p))\n",
        "if p > 0.05:\n",
        " print('Probably not Stationary')\n",
        "else:\n",
        " print('Probably Stationary')"
      ],
      "metadata": {
        "colab": {
          "base_uri": "https://localhost:8080/"
        },
        "id": "u-upvzli6Hrb",
        "outputId": "8f760598-c840-415a-fdfa-6260bb543b7d"
      },
      "execution_count": 35,
      "outputs": [
        {
          "output_type": "stream",
          "name": "stdout",
          "text": [
            "stat=0.517, p=0.985\n",
            "Probably not Stationary\n"
          ]
        }
      ]
    },
    {
      "cell_type": "markdown",
      "source": [
        "## 2. Kwiatkowski-Phillips-Schmidt-Shin\n",
        "Tests whether a time series is trend stationary or not.\n",
        "\n",
        "Assumptions:\n",
        "\n",
        "* Observations in are temporally ordered.\n",
        "\n",
        "Interpretation:\n",
        "\n",
        "* H0: the time series is trend-stationary.\n",
        "* H1: the time series is not trend-stationary."
      ],
      "metadata": {
        "id": "-Xc4GZoS6qmy"
      }
    },
    {
      "cell_type": "code",
      "source": [
        "# Example of the Kwiatkowski-Phillips-Schmidt-Shin test\n",
        "from statsmodels.tsa.stattools import kpss\n",
        "data = [0, 1, 2, 3, 4, 5, 6, 7, 8, 9]\n",
        "stat, p, lags, crit = kpss(data)\n",
        "print('stat=%.3f, p=%.3f' % (stat, p))\n",
        "if p > 0.05:\n",
        " print('Probably Stationary')\n",
        "else:\n",
        " print('Probably not Stationary')"
      ],
      "metadata": {
        "colab": {
          "base_uri": "https://localhost:8080/"
        },
        "id": "GnVBlQBI6f9g",
        "outputId": "72949a18-f4ea-42fa-ac7b-47abdca8b61d"
      },
      "execution_count": 36,
      "outputs": [
        {
          "output_type": "stream",
          "name": "stdout",
          "text": [
            "stat=0.594, p=0.023\n",
            "Probably not Stationary\n"
          ]
        }
      ]
    },
    {
      "cell_type": "markdown",
      "source": [
        "# Parametric Statistical Hypothesis Tests\n",
        "This section lists statistical tests that you can use to compare data samples.\n",
        "\n",
        "## 1. T-test\n",
        "Tests whether the means of two independent samples are significantly different.\n",
        "\n",
        "Assumptions:\n",
        "\n",
        "* Observations in each sample are independent and identically distributed (iid).\n",
        "* Observations in each sample are normally distributed.\n",
        "* Observations in each sample have the same variance.\n",
        "\n",
        "Interpretation:\n",
        "\n",
        "* H0: the means of the samples are equal.\n",
        "* H1: the means of the samples are unequal."
      ],
      "metadata": {
        "id": "MZggK2MH65SS"
      }
    },
    {
      "cell_type": "code",
      "source": [
        "# Example of the t-test\n",
        "from scipy.stats import ttest_ind\n",
        "data1 = [0.873, 2.817, 0.121, -0.945, -0.055, -1.436, 0.360, -1.478, -1.637, -1.869]\n",
        "data2 = [1.142, -0.432, -0.938, -0.729, -0.846, -0.157, 0.500, 1.183, -1.075, -0.169]\n",
        "stat, p = ttest_ind(data1, data2)\n",
        "print('stat=%.3f, p=%.3f' % (stat, p))\n",
        "if p > 0.05:\n",
        " print('Probably the same distribution')\n",
        "else:\n",
        " print('Probably different distributions')"
      ],
      "metadata": {
        "colab": {
          "base_uri": "https://localhost:8080/"
        },
        "id": "Oh5-igxC61b2",
        "outputId": "c181cc04-eaa7-4113-8f32-17c976498d65"
      },
      "execution_count": 37,
      "outputs": [
        {
          "output_type": "stream",
          "name": "stdout",
          "text": [
            "stat=-0.326, p=0.748\n",
            "Probably the same distribution\n"
          ]
        }
      ]
    },
    {
      "cell_type": "code",
      "source": [
        "## using pingouin\n",
        "\n",
        "print(pg.ttest(data1, data2))"
      ],
      "metadata": {
        "colab": {
          "base_uri": "https://localhost:8080/"
        },
        "id": "_oZ_dCD17Qey",
        "outputId": "1d404332-b5a4-4b39-c776-f90ad5524209"
      },
      "execution_count": 38,
      "outputs": [
        {
          "output_type": "stream",
          "name": "stdout",
          "text": [
            "               T  dof alternative    p-val          CI95%  cohen-d   BF10  \\\n",
            "T-test -0.325616   18   two-sided  0.74847  [-1.29, 0.94]  0.14562  0.413   \n",
            "\n",
            "           power  \n",
            "T-test  0.060981  \n"
          ]
        }
      ]
    },
    {
      "cell_type": "markdown",
      "source": [
        "## 2. Paired T-test\n",
        "Tests whether the means of two paired samples are significantly different.\n",
        "\n",
        "Assumptions:\n",
        "\n",
        "* Observations in each sample are independent and identically distributed (iid).\n",
        "* Observations in each sample are normally distributed.\n",
        "* Observations in each sample have the same variance.\n",
        "* Observations across each sample are paired.\n",
        "\n",
        "Interpretation:\n",
        "\n",
        "* H0: the means of the samples are equal.\n",
        "* H1: the means of the samples are unequal."
      ],
      "metadata": {
        "id": "UNiDD4KJ7rh-"
      }
    },
    {
      "cell_type": "code",
      "source": [
        "# Example of the Paired Student's t-test\n",
        "from scipy.stats import ttest_rel\n",
        "data1 = [0.873, 2.817, 0.121, -0.945, -0.055, -1.436, 0.360, -1.478, -1.637, -1.869]\n",
        "data2 = [1.142, -0.432, -0.938, -0.729, -0.846, -0.157, 0.500, 1.183, -1.075, -0.169]\n",
        "stat, p = ttest_rel(data1, data2)\n",
        "print('stat=%.3f, p=%.3f' % (stat, p))\n",
        "if p > 0.05:\n",
        " print('Probably the same distribution')\n",
        "else:\n",
        " print('Probably different distributions')"
      ],
      "metadata": {
        "colab": {
          "base_uri": "https://localhost:8080/"
        },
        "id": "Vnp1dB0k7iZQ",
        "outputId": "af976aa9-62c3-4b80-f0f5-e2e092a76248"
      },
      "execution_count": 39,
      "outputs": [
        {
          "output_type": "stream",
          "name": "stdout",
          "text": [
            "stat=-0.334, p=0.746\n",
            "Probably the same distribution\n"
          ]
        }
      ]
    },
    {
      "cell_type": "code",
      "source": [
        "print(pg.ttest(data1, data2))"
      ],
      "metadata": {
        "colab": {
          "base_uri": "https://localhost:8080/"
        },
        "id": "XwtrBWwK76V7",
        "outputId": "f316e537-752e-451d-efd5-27c3f9e632b2"
      },
      "execution_count": 40,
      "outputs": [
        {
          "output_type": "stream",
          "name": "stdout",
          "text": [
            "               T  dof alternative    p-val          CI95%  cohen-d   BF10  \\\n",
            "T-test -0.325616   18   two-sided  0.74847  [-1.29, 0.94]  0.14562  0.413   \n",
            "\n",
            "           power  \n",
            "T-test  0.060981  \n"
          ]
        }
      ]
    },
    {
      "cell_type": "markdown",
      "source": [
        "## 3. Analysis of Variance Test (ANOVA)\n",
        "Tests whether the means of two or more independent samples are significantly different.\n",
        "\n",
        "Assumptions:\n",
        "\n",
        "* Observations in each sample are independent and identically distributed (iid).\n",
        "* Observations in each sample are normally distributed.\n",
        "* Observations in each sample have the same variance.\n",
        "\n",
        "Interpretation:\n",
        "\n",
        "* H0: the means of the samples are equal.\n",
        "* H1: one or more of the means of the samples are unequal."
      ],
      "metadata": {
        "id": "vXsbuDim8B8X"
      }
    },
    {
      "cell_type": "code",
      "source": [
        "# Example of the Analysis of Variance Test\n",
        "from scipy.stats import f_oneway\n",
        "data1 = [0.873, 2.817, 0.121, -0.945, -0.055, -1.436, 0.360, -1.478, -1.637, -1.869]\n",
        "data2 = [1.142, -0.432, -0.938, -0.729, -0.846, -0.157, 0.500, 1.183, -1.075, -0.169]\n",
        "data3 = [-0.208, 0.696, 0.928, -1.148, -0.213, 0.229, 0.137, 0.269, -0.870, -1.204]\n",
        "stat, p = f_oneway(data1, data2, data3)\n",
        "print('stat=%.3f, p=%.3f' % (stat, p))\n",
        "if p > 0.05:\n",
        " print('Probably the same distribution')\n",
        "else:\n",
        " print('Probably different distributions')"
      ],
      "metadata": {
        "colab": {
          "base_uri": "https://localhost:8080/"
        },
        "id": "kpWIRIcJ791R",
        "outputId": "a17f25d8-070c-4e3b-b79f-9a2b4647ef30"
      },
      "execution_count": 41,
      "outputs": [
        {
          "output_type": "stream",
          "name": "stdout",
          "text": [
            "stat=0.096, p=0.908\n",
            "Probably the same distribution\n"
          ]
        }
      ]
    },
    {
      "cell_type": "code",
      "source": [
        "import pandas as pd"
      ],
      "metadata": {
        "id": "otMynpor8qPd"
      },
      "execution_count": 43,
      "outputs": []
    },
    {
      "cell_type": "code",
      "source": [
        "# Read an example dataset\n",
        "df = pg.read_dataset('mixed_anova')\n",
        "\n",
        "# Run the ANOVA\n",
        "aov = pg.anova(data=df, dv='Scores', between='Group', detailed=True)\n",
        "print(aov)"
      ],
      "metadata": {
        "colab": {
          "base_uri": "https://localhost:8080/"
        },
        "id": "n9fD77Rf9KlG",
        "outputId": "fd43a3a2-7c0a-48a7-9583-74f79e788168"
      },
      "execution_count": 47,
      "outputs": [
        {
          "output_type": "stream",
          "name": "stdout",
          "text": [
            "   Source          SS   DF        MS         F   p-unc       np2\n",
            "0   Group    5.459963    1  5.459963  5.243656  0.0232  0.028616\n",
            "1  Within  185.342729  178  1.041251       NaN     NaN       NaN\n"
          ]
        }
      ]
    },
    {
      "cell_type": "code",
      "source": [
        "df.head()"
      ],
      "metadata": {
        "colab": {
          "base_uri": "https://localhost:8080/",
          "height": 206
        },
        "id": "M0UzFknS9Me6",
        "outputId": "f11cd046-16fc-455f-a81f-1cceea5a192a"
      },
      "execution_count": 48,
      "outputs": [
        {
          "output_type": "execute_result",
          "data": {
            "text/plain": [
              "     Scores    Time    Group  Subject\n",
              "0  5.971435  August  Control        0\n",
              "1  4.309024  August  Control        1\n",
              "2  6.932707  August  Control        2\n",
              "3  5.187348  August  Control        3\n",
              "4  4.779411  August  Control        4"
            ],
            "text/html": [
              "\n",
              "  <div id=\"df-6eb26522-02a3-4b07-8f72-853931e5a5f4\" class=\"colab-df-container\">\n",
              "    <div>\n",
              "<style scoped>\n",
              "    .dataframe tbody tr th:only-of-type {\n",
              "        vertical-align: middle;\n",
              "    }\n",
              "\n",
              "    .dataframe tbody tr th {\n",
              "        vertical-align: top;\n",
              "    }\n",
              "\n",
              "    .dataframe thead th {\n",
              "        text-align: right;\n",
              "    }\n",
              "</style>\n",
              "<table border=\"1\" class=\"dataframe\">\n",
              "  <thead>\n",
              "    <tr style=\"text-align: right;\">\n",
              "      <th></th>\n",
              "      <th>Scores</th>\n",
              "      <th>Time</th>\n",
              "      <th>Group</th>\n",
              "      <th>Subject</th>\n",
              "    </tr>\n",
              "  </thead>\n",
              "  <tbody>\n",
              "    <tr>\n",
              "      <th>0</th>\n",
              "      <td>5.971435</td>\n",
              "      <td>August</td>\n",
              "      <td>Control</td>\n",
              "      <td>0</td>\n",
              "    </tr>\n",
              "    <tr>\n",
              "      <th>1</th>\n",
              "      <td>4.309024</td>\n",
              "      <td>August</td>\n",
              "      <td>Control</td>\n",
              "      <td>1</td>\n",
              "    </tr>\n",
              "    <tr>\n",
              "      <th>2</th>\n",
              "      <td>6.932707</td>\n",
              "      <td>August</td>\n",
              "      <td>Control</td>\n",
              "      <td>2</td>\n",
              "    </tr>\n",
              "    <tr>\n",
              "      <th>3</th>\n",
              "      <td>5.187348</td>\n",
              "      <td>August</td>\n",
              "      <td>Control</td>\n",
              "      <td>3</td>\n",
              "    </tr>\n",
              "    <tr>\n",
              "      <th>4</th>\n",
              "      <td>4.779411</td>\n",
              "      <td>August</td>\n",
              "      <td>Control</td>\n",
              "      <td>4</td>\n",
              "    </tr>\n",
              "  </tbody>\n",
              "</table>\n",
              "</div>\n",
              "    <div class=\"colab-df-buttons\">\n",
              "\n",
              "  <div class=\"colab-df-container\">\n",
              "    <button class=\"colab-df-convert\" onclick=\"convertToInteractive('df-6eb26522-02a3-4b07-8f72-853931e5a5f4')\"\n",
              "            title=\"Convert this dataframe to an interactive table.\"\n",
              "            style=\"display:none;\">\n",
              "\n",
              "  <svg xmlns=\"http://www.w3.org/2000/svg\" height=\"24px\" viewBox=\"0 -960 960 960\">\n",
              "    <path d=\"M120-120v-720h720v720H120Zm60-500h600v-160H180v160Zm220 220h160v-160H400v160Zm0 220h160v-160H400v160ZM180-400h160v-160H180v160Zm440 0h160v-160H620v160ZM180-180h160v-160H180v160Zm440 0h160v-160H620v160Z\"/>\n",
              "  </svg>\n",
              "    </button>\n",
              "\n",
              "  <style>\n",
              "    .colab-df-container {\n",
              "      display:flex;\n",
              "      gap: 12px;\n",
              "    }\n",
              "\n",
              "    .colab-df-convert {\n",
              "      background-color: #E8F0FE;\n",
              "      border: none;\n",
              "      border-radius: 50%;\n",
              "      cursor: pointer;\n",
              "      display: none;\n",
              "      fill: #1967D2;\n",
              "      height: 32px;\n",
              "      padding: 0 0 0 0;\n",
              "      width: 32px;\n",
              "    }\n",
              "\n",
              "    .colab-df-convert:hover {\n",
              "      background-color: #E2EBFA;\n",
              "      box-shadow: 0px 1px 2px rgba(60, 64, 67, 0.3), 0px 1px 3px 1px rgba(60, 64, 67, 0.15);\n",
              "      fill: #174EA6;\n",
              "    }\n",
              "\n",
              "    .colab-df-buttons div {\n",
              "      margin-bottom: 4px;\n",
              "    }\n",
              "\n",
              "    [theme=dark] .colab-df-convert {\n",
              "      background-color: #3B4455;\n",
              "      fill: #D2E3FC;\n",
              "    }\n",
              "\n",
              "    [theme=dark] .colab-df-convert:hover {\n",
              "      background-color: #434B5C;\n",
              "      box-shadow: 0px 1px 3px 1px rgba(0, 0, 0, 0.15);\n",
              "      filter: drop-shadow(0px 1px 2px rgba(0, 0, 0, 0.3));\n",
              "      fill: #FFFFFF;\n",
              "    }\n",
              "  </style>\n",
              "\n",
              "    <script>\n",
              "      const buttonEl =\n",
              "        document.querySelector('#df-6eb26522-02a3-4b07-8f72-853931e5a5f4 button.colab-df-convert');\n",
              "      buttonEl.style.display =\n",
              "        google.colab.kernel.accessAllowed ? 'block' : 'none';\n",
              "\n",
              "      async function convertToInteractive(key) {\n",
              "        const element = document.querySelector('#df-6eb26522-02a3-4b07-8f72-853931e5a5f4');\n",
              "        const dataTable =\n",
              "          await google.colab.kernel.invokeFunction('convertToInteractive',\n",
              "                                                    [key], {});\n",
              "        if (!dataTable) return;\n",
              "\n",
              "        const docLinkHtml = 'Like what you see? Visit the ' +\n",
              "          '<a target=\"_blank\" href=https://colab.research.google.com/notebooks/data_table.ipynb>data table notebook</a>'\n",
              "          + ' to learn more about interactive tables.';\n",
              "        element.innerHTML = '';\n",
              "        dataTable['output_type'] = 'display_data';\n",
              "        await google.colab.output.renderOutput(dataTable, element);\n",
              "        const docLink = document.createElement('div');\n",
              "        docLink.innerHTML = docLinkHtml;\n",
              "        element.appendChild(docLink);\n",
              "      }\n",
              "    </script>\n",
              "  </div>\n",
              "\n",
              "\n",
              "<div id=\"df-bdf2921e-b883-4cf6-be48-0e89858d909b\">\n",
              "  <button class=\"colab-df-quickchart\" onclick=\"quickchart('df-bdf2921e-b883-4cf6-be48-0e89858d909b')\"\n",
              "            title=\"Suggest charts\"\n",
              "            style=\"display:none;\">\n",
              "\n",
              "<svg xmlns=\"http://www.w3.org/2000/svg\" height=\"24px\"viewBox=\"0 0 24 24\"\n",
              "     width=\"24px\">\n",
              "    <g>\n",
              "        <path d=\"M19 3H5c-1.1 0-2 .9-2 2v14c0 1.1.9 2 2 2h14c1.1 0 2-.9 2-2V5c0-1.1-.9-2-2-2zM9 17H7v-7h2v7zm4 0h-2V7h2v10zm4 0h-2v-4h2v4z\"/>\n",
              "    </g>\n",
              "</svg>\n",
              "  </button>\n",
              "\n",
              "<style>\n",
              "  .colab-df-quickchart {\n",
              "      --bg-color: #E8F0FE;\n",
              "      --fill-color: #1967D2;\n",
              "      --hover-bg-color: #E2EBFA;\n",
              "      --hover-fill-color: #174EA6;\n",
              "      --disabled-fill-color: #AAA;\n",
              "      --disabled-bg-color: #DDD;\n",
              "  }\n",
              "\n",
              "  [theme=dark] .colab-df-quickchart {\n",
              "      --bg-color: #3B4455;\n",
              "      --fill-color: #D2E3FC;\n",
              "      --hover-bg-color: #434B5C;\n",
              "      --hover-fill-color: #FFFFFF;\n",
              "      --disabled-bg-color: #3B4455;\n",
              "      --disabled-fill-color: #666;\n",
              "  }\n",
              "\n",
              "  .colab-df-quickchart {\n",
              "    background-color: var(--bg-color);\n",
              "    border: none;\n",
              "    border-radius: 50%;\n",
              "    cursor: pointer;\n",
              "    display: none;\n",
              "    fill: var(--fill-color);\n",
              "    height: 32px;\n",
              "    padding: 0;\n",
              "    width: 32px;\n",
              "  }\n",
              "\n",
              "  .colab-df-quickchart:hover {\n",
              "    background-color: var(--hover-bg-color);\n",
              "    box-shadow: 0 1px 2px rgba(60, 64, 67, 0.3), 0 1px 3px 1px rgba(60, 64, 67, 0.15);\n",
              "    fill: var(--button-hover-fill-color);\n",
              "  }\n",
              "\n",
              "  .colab-df-quickchart-complete:disabled,\n",
              "  .colab-df-quickchart-complete:disabled:hover {\n",
              "    background-color: var(--disabled-bg-color);\n",
              "    fill: var(--disabled-fill-color);\n",
              "    box-shadow: none;\n",
              "  }\n",
              "\n",
              "  .colab-df-spinner {\n",
              "    border: 2px solid var(--fill-color);\n",
              "    border-color: transparent;\n",
              "    border-bottom-color: var(--fill-color);\n",
              "    animation:\n",
              "      spin 1s steps(1) infinite;\n",
              "  }\n",
              "\n",
              "  @keyframes spin {\n",
              "    0% {\n",
              "      border-color: transparent;\n",
              "      border-bottom-color: var(--fill-color);\n",
              "      border-left-color: var(--fill-color);\n",
              "    }\n",
              "    20% {\n",
              "      border-color: transparent;\n",
              "      border-left-color: var(--fill-color);\n",
              "      border-top-color: var(--fill-color);\n",
              "    }\n",
              "    30% {\n",
              "      border-color: transparent;\n",
              "      border-left-color: var(--fill-color);\n",
              "      border-top-color: var(--fill-color);\n",
              "      border-right-color: var(--fill-color);\n",
              "    }\n",
              "    40% {\n",
              "      border-color: transparent;\n",
              "      border-right-color: var(--fill-color);\n",
              "      border-top-color: var(--fill-color);\n",
              "    }\n",
              "    60% {\n",
              "      border-color: transparent;\n",
              "      border-right-color: var(--fill-color);\n",
              "    }\n",
              "    80% {\n",
              "      border-color: transparent;\n",
              "      border-right-color: var(--fill-color);\n",
              "      border-bottom-color: var(--fill-color);\n",
              "    }\n",
              "    90% {\n",
              "      border-color: transparent;\n",
              "      border-bottom-color: var(--fill-color);\n",
              "    }\n",
              "  }\n",
              "</style>\n",
              "\n",
              "  <script>\n",
              "    async function quickchart(key) {\n",
              "      const quickchartButtonEl =\n",
              "        document.querySelector('#' + key + ' button');\n",
              "      quickchartButtonEl.disabled = true;  // To prevent multiple clicks.\n",
              "      quickchartButtonEl.classList.add('colab-df-spinner');\n",
              "      try {\n",
              "        const charts = await google.colab.kernel.invokeFunction(\n",
              "            'suggestCharts', [key], {});\n",
              "      } catch (error) {\n",
              "        console.error('Error during call to suggestCharts:', error);\n",
              "      }\n",
              "      quickchartButtonEl.classList.remove('colab-df-spinner');\n",
              "      quickchartButtonEl.classList.add('colab-df-quickchart-complete');\n",
              "    }\n",
              "    (() => {\n",
              "      let quickchartButtonEl =\n",
              "        document.querySelector('#df-bdf2921e-b883-4cf6-be48-0e89858d909b button');\n",
              "      quickchartButtonEl.style.display =\n",
              "        google.colab.kernel.accessAllowed ? 'block' : 'none';\n",
              "    })();\n",
              "  </script>\n",
              "</div>\n",
              "\n",
              "    </div>\n",
              "  </div>\n"
            ],
            "application/vnd.google.colaboratory.intrinsic+json": {
              "type": "dataframe",
              "variable_name": "df",
              "summary": "{\n  \"name\": \"df\",\n  \"rows\": 180,\n  \"fields\": [\n    {\n      \"column\": \"Scores\",\n      \"properties\": {\n        \"dtype\": \"number\",\n        \"std\": 1.0324421663181573,\n        \"min\": 1.9364833393752647,\n        \"max\": 8.523691888593554,\n        \"num_unique_values\": 180,\n        \"samples\": [\n          3.95309444677076,\n          5.536141936684072,\n          6.343304283509071\n        ],\n        \"semantic_type\": \"\",\n        \"description\": \"\"\n      }\n    },\n    {\n      \"column\": \"Time\",\n      \"properties\": {\n        \"dtype\": \"category\",\n        \"num_unique_values\": 3,\n        \"samples\": [\n          \"August\",\n          \"January\",\n          \"June\"\n        ],\n        \"semantic_type\": \"\",\n        \"description\": \"\"\n      }\n    },\n    {\n      \"column\": \"Group\",\n      \"properties\": {\n        \"dtype\": \"category\",\n        \"num_unique_values\": 2,\n        \"samples\": [\n          \"Meditation\",\n          \"Control\"\n        ],\n        \"semantic_type\": \"\",\n        \"description\": \"\"\n      }\n    },\n    {\n      \"column\": \"Subject\",\n      \"properties\": {\n        \"dtype\": \"number\",\n        \"std\": 17,\n        \"min\": 0,\n        \"max\": 59,\n        \"num_unique_values\": 60,\n        \"samples\": [\n          0,\n          5\n        ],\n        \"semantic_type\": \"\",\n        \"description\": \"\"\n      }\n    }\n  ]\n}"
            }
          },
          "metadata": {},
          "execution_count": 48
        }
      ]
    },
    {
      "cell_type": "code",
      "source": [
        "df1 = pd.DataFrame({'Data1': data1, 'Data2': data2, 'Data3': data3})\n",
        "\n",
        "df1.head()"
      ],
      "metadata": {
        "colab": {
          "base_uri": "https://localhost:8080/",
          "height": 206
        },
        "id": "07zwLNtr9VKG",
        "outputId": "bcfdee7e-2c0e-44c5-969c-18dac46992e6"
      },
      "execution_count": 49,
      "outputs": [
        {
          "output_type": "execute_result",
          "data": {
            "text/plain": [
              "   Data1  Data2  Data3\n",
              "0  0.873  1.142 -0.208\n",
              "1  2.817 -0.432  0.696\n",
              "2  0.121 -0.938  0.928\n",
              "3 -0.945 -0.729 -1.148\n",
              "4 -0.055 -0.846 -0.213"
            ],
            "text/html": [
              "\n",
              "  <div id=\"df-2fe7db90-8d93-42ac-a35c-4520a300852c\" class=\"colab-df-container\">\n",
              "    <div>\n",
              "<style scoped>\n",
              "    .dataframe tbody tr th:only-of-type {\n",
              "        vertical-align: middle;\n",
              "    }\n",
              "\n",
              "    .dataframe tbody tr th {\n",
              "        vertical-align: top;\n",
              "    }\n",
              "\n",
              "    .dataframe thead th {\n",
              "        text-align: right;\n",
              "    }\n",
              "</style>\n",
              "<table border=\"1\" class=\"dataframe\">\n",
              "  <thead>\n",
              "    <tr style=\"text-align: right;\">\n",
              "      <th></th>\n",
              "      <th>Data1</th>\n",
              "      <th>Data2</th>\n",
              "      <th>Data3</th>\n",
              "    </tr>\n",
              "  </thead>\n",
              "  <tbody>\n",
              "    <tr>\n",
              "      <th>0</th>\n",
              "      <td>0.873</td>\n",
              "      <td>1.142</td>\n",
              "      <td>-0.208</td>\n",
              "    </tr>\n",
              "    <tr>\n",
              "      <th>1</th>\n",
              "      <td>2.817</td>\n",
              "      <td>-0.432</td>\n",
              "      <td>0.696</td>\n",
              "    </tr>\n",
              "    <tr>\n",
              "      <th>2</th>\n",
              "      <td>0.121</td>\n",
              "      <td>-0.938</td>\n",
              "      <td>0.928</td>\n",
              "    </tr>\n",
              "    <tr>\n",
              "      <th>3</th>\n",
              "      <td>-0.945</td>\n",
              "      <td>-0.729</td>\n",
              "      <td>-1.148</td>\n",
              "    </tr>\n",
              "    <tr>\n",
              "      <th>4</th>\n",
              "      <td>-0.055</td>\n",
              "      <td>-0.846</td>\n",
              "      <td>-0.213</td>\n",
              "    </tr>\n",
              "  </tbody>\n",
              "</table>\n",
              "</div>\n",
              "    <div class=\"colab-df-buttons\">\n",
              "\n",
              "  <div class=\"colab-df-container\">\n",
              "    <button class=\"colab-df-convert\" onclick=\"convertToInteractive('df-2fe7db90-8d93-42ac-a35c-4520a300852c')\"\n",
              "            title=\"Convert this dataframe to an interactive table.\"\n",
              "            style=\"display:none;\">\n",
              "\n",
              "  <svg xmlns=\"http://www.w3.org/2000/svg\" height=\"24px\" viewBox=\"0 -960 960 960\">\n",
              "    <path d=\"M120-120v-720h720v720H120Zm60-500h600v-160H180v160Zm220 220h160v-160H400v160Zm0 220h160v-160H400v160ZM180-400h160v-160H180v160Zm440 0h160v-160H620v160ZM180-180h160v-160H180v160Zm440 0h160v-160H620v160Z\"/>\n",
              "  </svg>\n",
              "    </button>\n",
              "\n",
              "  <style>\n",
              "    .colab-df-container {\n",
              "      display:flex;\n",
              "      gap: 12px;\n",
              "    }\n",
              "\n",
              "    .colab-df-convert {\n",
              "      background-color: #E8F0FE;\n",
              "      border: none;\n",
              "      border-radius: 50%;\n",
              "      cursor: pointer;\n",
              "      display: none;\n",
              "      fill: #1967D2;\n",
              "      height: 32px;\n",
              "      padding: 0 0 0 0;\n",
              "      width: 32px;\n",
              "    }\n",
              "\n",
              "    .colab-df-convert:hover {\n",
              "      background-color: #E2EBFA;\n",
              "      box-shadow: 0px 1px 2px rgba(60, 64, 67, 0.3), 0px 1px 3px 1px rgba(60, 64, 67, 0.15);\n",
              "      fill: #174EA6;\n",
              "    }\n",
              "\n",
              "    .colab-df-buttons div {\n",
              "      margin-bottom: 4px;\n",
              "    }\n",
              "\n",
              "    [theme=dark] .colab-df-convert {\n",
              "      background-color: #3B4455;\n",
              "      fill: #D2E3FC;\n",
              "    }\n",
              "\n",
              "    [theme=dark] .colab-df-convert:hover {\n",
              "      background-color: #434B5C;\n",
              "      box-shadow: 0px 1px 3px 1px rgba(0, 0, 0, 0.15);\n",
              "      filter: drop-shadow(0px 1px 2px rgba(0, 0, 0, 0.3));\n",
              "      fill: #FFFFFF;\n",
              "    }\n",
              "  </style>\n",
              "\n",
              "    <script>\n",
              "      const buttonEl =\n",
              "        document.querySelector('#df-2fe7db90-8d93-42ac-a35c-4520a300852c button.colab-df-convert');\n",
              "      buttonEl.style.display =\n",
              "        google.colab.kernel.accessAllowed ? 'block' : 'none';\n",
              "\n",
              "      async function convertToInteractive(key) {\n",
              "        const element = document.querySelector('#df-2fe7db90-8d93-42ac-a35c-4520a300852c');\n",
              "        const dataTable =\n",
              "          await google.colab.kernel.invokeFunction('convertToInteractive',\n",
              "                                                    [key], {});\n",
              "        if (!dataTable) return;\n",
              "\n",
              "        const docLinkHtml = 'Like what you see? Visit the ' +\n",
              "          '<a target=\"_blank\" href=https://colab.research.google.com/notebooks/data_table.ipynb>data table notebook</a>'\n",
              "          + ' to learn more about interactive tables.';\n",
              "        element.innerHTML = '';\n",
              "        dataTable['output_type'] = 'display_data';\n",
              "        await google.colab.output.renderOutput(dataTable, element);\n",
              "        const docLink = document.createElement('div');\n",
              "        docLink.innerHTML = docLinkHtml;\n",
              "        element.appendChild(docLink);\n",
              "      }\n",
              "    </script>\n",
              "  </div>\n",
              "\n",
              "\n",
              "<div id=\"df-ccc162b1-f65f-429a-b410-c1dd5f92a3eb\">\n",
              "  <button class=\"colab-df-quickchart\" onclick=\"quickchart('df-ccc162b1-f65f-429a-b410-c1dd5f92a3eb')\"\n",
              "            title=\"Suggest charts\"\n",
              "            style=\"display:none;\">\n",
              "\n",
              "<svg xmlns=\"http://www.w3.org/2000/svg\" height=\"24px\"viewBox=\"0 0 24 24\"\n",
              "     width=\"24px\">\n",
              "    <g>\n",
              "        <path d=\"M19 3H5c-1.1 0-2 .9-2 2v14c0 1.1.9 2 2 2h14c1.1 0 2-.9 2-2V5c0-1.1-.9-2-2-2zM9 17H7v-7h2v7zm4 0h-2V7h2v10zm4 0h-2v-4h2v4z\"/>\n",
              "    </g>\n",
              "</svg>\n",
              "  </button>\n",
              "\n",
              "<style>\n",
              "  .colab-df-quickchart {\n",
              "      --bg-color: #E8F0FE;\n",
              "      --fill-color: #1967D2;\n",
              "      --hover-bg-color: #E2EBFA;\n",
              "      --hover-fill-color: #174EA6;\n",
              "      --disabled-fill-color: #AAA;\n",
              "      --disabled-bg-color: #DDD;\n",
              "  }\n",
              "\n",
              "  [theme=dark] .colab-df-quickchart {\n",
              "      --bg-color: #3B4455;\n",
              "      --fill-color: #D2E3FC;\n",
              "      --hover-bg-color: #434B5C;\n",
              "      --hover-fill-color: #FFFFFF;\n",
              "      --disabled-bg-color: #3B4455;\n",
              "      --disabled-fill-color: #666;\n",
              "  }\n",
              "\n",
              "  .colab-df-quickchart {\n",
              "    background-color: var(--bg-color);\n",
              "    border: none;\n",
              "    border-radius: 50%;\n",
              "    cursor: pointer;\n",
              "    display: none;\n",
              "    fill: var(--fill-color);\n",
              "    height: 32px;\n",
              "    padding: 0;\n",
              "    width: 32px;\n",
              "  }\n",
              "\n",
              "  .colab-df-quickchart:hover {\n",
              "    background-color: var(--hover-bg-color);\n",
              "    box-shadow: 0 1px 2px rgba(60, 64, 67, 0.3), 0 1px 3px 1px rgba(60, 64, 67, 0.15);\n",
              "    fill: var(--button-hover-fill-color);\n",
              "  }\n",
              "\n",
              "  .colab-df-quickchart-complete:disabled,\n",
              "  .colab-df-quickchart-complete:disabled:hover {\n",
              "    background-color: var(--disabled-bg-color);\n",
              "    fill: var(--disabled-fill-color);\n",
              "    box-shadow: none;\n",
              "  }\n",
              "\n",
              "  .colab-df-spinner {\n",
              "    border: 2px solid var(--fill-color);\n",
              "    border-color: transparent;\n",
              "    border-bottom-color: var(--fill-color);\n",
              "    animation:\n",
              "      spin 1s steps(1) infinite;\n",
              "  }\n",
              "\n",
              "  @keyframes spin {\n",
              "    0% {\n",
              "      border-color: transparent;\n",
              "      border-bottom-color: var(--fill-color);\n",
              "      border-left-color: var(--fill-color);\n",
              "    }\n",
              "    20% {\n",
              "      border-color: transparent;\n",
              "      border-left-color: var(--fill-color);\n",
              "      border-top-color: var(--fill-color);\n",
              "    }\n",
              "    30% {\n",
              "      border-color: transparent;\n",
              "      border-left-color: var(--fill-color);\n",
              "      border-top-color: var(--fill-color);\n",
              "      border-right-color: var(--fill-color);\n",
              "    }\n",
              "    40% {\n",
              "      border-color: transparent;\n",
              "      border-right-color: var(--fill-color);\n",
              "      border-top-color: var(--fill-color);\n",
              "    }\n",
              "    60% {\n",
              "      border-color: transparent;\n",
              "      border-right-color: var(--fill-color);\n",
              "    }\n",
              "    80% {\n",
              "      border-color: transparent;\n",
              "      border-right-color: var(--fill-color);\n",
              "      border-bottom-color: var(--fill-color);\n",
              "    }\n",
              "    90% {\n",
              "      border-color: transparent;\n",
              "      border-bottom-color: var(--fill-color);\n",
              "    }\n",
              "  }\n",
              "</style>\n",
              "\n",
              "  <script>\n",
              "    async function quickchart(key) {\n",
              "      const quickchartButtonEl =\n",
              "        document.querySelector('#' + key + ' button');\n",
              "      quickchartButtonEl.disabled = true;  // To prevent multiple clicks.\n",
              "      quickchartButtonEl.classList.add('colab-df-spinner');\n",
              "      try {\n",
              "        const charts = await google.colab.kernel.invokeFunction(\n",
              "            'suggestCharts', [key], {});\n",
              "      } catch (error) {\n",
              "        console.error('Error during call to suggestCharts:', error);\n",
              "      }\n",
              "      quickchartButtonEl.classList.remove('colab-df-spinner');\n",
              "      quickchartButtonEl.classList.add('colab-df-quickchart-complete');\n",
              "    }\n",
              "    (() => {\n",
              "      let quickchartButtonEl =\n",
              "        document.querySelector('#df-ccc162b1-f65f-429a-b410-c1dd5f92a3eb button');\n",
              "      quickchartButtonEl.style.display =\n",
              "        google.colab.kernel.accessAllowed ? 'block' : 'none';\n",
              "    })();\n",
              "  </script>\n",
              "</div>\n",
              "\n",
              "    </div>\n",
              "  </div>\n"
            ],
            "application/vnd.google.colaboratory.intrinsic+json": {
              "type": "dataframe",
              "variable_name": "df1",
              "summary": "{\n  \"name\": \"df1\",\n  \"rows\": 10,\n  \"fields\": [\n    {\n      \"column\": \"Data1\",\n      \"properties\": {\n        \"dtype\": \"number\",\n        \"std\": 1.4568542556557338,\n        \"min\": -1.869,\n        \"max\": 2.817,\n        \"num_unique_values\": 10,\n        \"samples\": [\n          -1.637,\n          2.817,\n          -1.436\n        ],\n        \"semantic_type\": \"\",\n        \"description\": \"\"\n      }\n    },\n    {\n      \"column\": \"Data2\",\n      \"properties\": {\n        \"dtype\": \"number\",\n        \"std\": 0.832984520331027,\n        \"min\": -1.075,\n        \"max\": 1.183,\n        \"num_unique_values\": 10,\n        \"samples\": [\n          -1.075,\n          -0.432,\n          -0.157\n        ],\n        \"semantic_type\": \"\",\n        \"description\": \"\"\n      }\n    },\n    {\n      \"column\": \"Data3\",\n      \"properties\": {\n        \"dtype\": \"number\",\n        \"std\": 0.7386683513819535,\n        \"min\": -1.204,\n        \"max\": 0.928,\n        \"num_unique_values\": 10,\n        \"samples\": [\n          -0.87,\n          0.696,\n          0.229\n        ],\n        \"semantic_type\": \"\",\n        \"description\": \"\"\n      }\n    }\n  ]\n}"
            }
          },
          "metadata": {},
          "execution_count": 49
        }
      ]
    },
    {
      "cell_type": "code",
      "source": [
        "## using pingouin\n",
        "\n",
        "aov = pg.anova(data=df1, dv=\"Data1\", between=\"Data2\", detailed=True)\n",
        "print(aov)"
      ],
      "metadata": {
        "colab": {
          "base_uri": "https://localhost:8080/"
        },
        "id": "nWRUkkM58Rem",
        "outputId": "539383f7-0974-46e3-ae57-c98b76111dd4"
      },
      "execution_count": 52,
      "outputs": [
        {
          "output_type": "stream",
          "name": "stdout",
          "text": [
            "   Source         SS  DF        MS  np2\n",
            "0   Data2  19.101819   9  2.122424  1.0\n",
            "1  Within   0.000000   0       NaN  NaN\n"
          ]
        },
        {
          "output_type": "stream",
          "name": "stderr",
          "text": [
            "/usr/local/lib/python3.10/dist-packages/pingouin/parametric.py:1007: RuntimeWarning: invalid value encountered in scalar divide\n",
            "  mserror = sserror / ddof2\n"
          ]
        }
      ]
    },
    {
      "cell_type": "markdown",
      "source": [
        "## 2. Repeated Measures ANOVA Test\n",
        "Tests whether the means of two or more paired samples are significantly different.\n",
        "\n",
        "Assumptions:\n",
        "\n",
        "* Observations in each sample are independent and identically distributed (iid).\n",
        "* Observations in each sample are normally distributed.\n",
        "* Observations in each sample have the same variance.\n",
        "* Observations across each sample are paired.\n",
        "\n",
        "Interpretation:\n",
        "\n",
        "* H0: the means of the samples are equal.\n",
        "* H1: one or more of the means of the samples are unequal."
      ],
      "metadata": {
        "id": "NfG9jGM19tlW"
      }
    },
    {
      "cell_type": "code",
      "source": [
        "pg.rm_anova(data=df, dv='Scores', within='Time', subject='Subject', detailed=True)"
      ],
      "metadata": {
        "colab": {
          "base_uri": "https://localhost:8080/",
          "height": 112
        },
        "id": "efo_1a9T8nVk",
        "outputId": "7756e870-7e33-48f8-e4e4-e48b06a8751d"
      },
      "execution_count": 53,
      "outputs": [
        {
          "output_type": "execute_result",
          "data": {
            "text/plain": [
              "  Source          SS   DF        MS         F     p-unc       ng2       eps\n",
              "0   Time    7.628428    2  3.814214  3.912796  0.022629  0.039981  0.998751\n",
              "1  Error  115.027023  118  0.974805       NaN       NaN       NaN       NaN"
            ],
            "text/html": [
              "\n",
              "  <div id=\"df-cadb1f01-4074-4037-a1a7-17e23a19cda4\" class=\"colab-df-container\">\n",
              "    <div>\n",
              "<style scoped>\n",
              "    .dataframe tbody tr th:only-of-type {\n",
              "        vertical-align: middle;\n",
              "    }\n",
              "\n",
              "    .dataframe tbody tr th {\n",
              "        vertical-align: top;\n",
              "    }\n",
              "\n",
              "    .dataframe thead th {\n",
              "        text-align: right;\n",
              "    }\n",
              "</style>\n",
              "<table border=\"1\" class=\"dataframe\">\n",
              "  <thead>\n",
              "    <tr style=\"text-align: right;\">\n",
              "      <th></th>\n",
              "      <th>Source</th>\n",
              "      <th>SS</th>\n",
              "      <th>DF</th>\n",
              "      <th>MS</th>\n",
              "      <th>F</th>\n",
              "      <th>p-unc</th>\n",
              "      <th>ng2</th>\n",
              "      <th>eps</th>\n",
              "    </tr>\n",
              "  </thead>\n",
              "  <tbody>\n",
              "    <tr>\n",
              "      <th>0</th>\n",
              "      <td>Time</td>\n",
              "      <td>7.628428</td>\n",
              "      <td>2</td>\n",
              "      <td>3.814214</td>\n",
              "      <td>3.912796</td>\n",
              "      <td>0.022629</td>\n",
              "      <td>0.039981</td>\n",
              "      <td>0.998751</td>\n",
              "    </tr>\n",
              "    <tr>\n",
              "      <th>1</th>\n",
              "      <td>Error</td>\n",
              "      <td>115.027023</td>\n",
              "      <td>118</td>\n",
              "      <td>0.974805</td>\n",
              "      <td>NaN</td>\n",
              "      <td>NaN</td>\n",
              "      <td>NaN</td>\n",
              "      <td>NaN</td>\n",
              "    </tr>\n",
              "  </tbody>\n",
              "</table>\n",
              "</div>\n",
              "    <div class=\"colab-df-buttons\">\n",
              "\n",
              "  <div class=\"colab-df-container\">\n",
              "    <button class=\"colab-df-convert\" onclick=\"convertToInteractive('df-cadb1f01-4074-4037-a1a7-17e23a19cda4')\"\n",
              "            title=\"Convert this dataframe to an interactive table.\"\n",
              "            style=\"display:none;\">\n",
              "\n",
              "  <svg xmlns=\"http://www.w3.org/2000/svg\" height=\"24px\" viewBox=\"0 -960 960 960\">\n",
              "    <path d=\"M120-120v-720h720v720H120Zm60-500h600v-160H180v160Zm220 220h160v-160H400v160Zm0 220h160v-160H400v160ZM180-400h160v-160H180v160Zm440 0h160v-160H620v160ZM180-180h160v-160H180v160Zm440 0h160v-160H620v160Z\"/>\n",
              "  </svg>\n",
              "    </button>\n",
              "\n",
              "  <style>\n",
              "    .colab-df-container {\n",
              "      display:flex;\n",
              "      gap: 12px;\n",
              "    }\n",
              "\n",
              "    .colab-df-convert {\n",
              "      background-color: #E8F0FE;\n",
              "      border: none;\n",
              "      border-radius: 50%;\n",
              "      cursor: pointer;\n",
              "      display: none;\n",
              "      fill: #1967D2;\n",
              "      height: 32px;\n",
              "      padding: 0 0 0 0;\n",
              "      width: 32px;\n",
              "    }\n",
              "\n",
              "    .colab-df-convert:hover {\n",
              "      background-color: #E2EBFA;\n",
              "      box-shadow: 0px 1px 2px rgba(60, 64, 67, 0.3), 0px 1px 3px 1px rgba(60, 64, 67, 0.15);\n",
              "      fill: #174EA6;\n",
              "    }\n",
              "\n",
              "    .colab-df-buttons div {\n",
              "      margin-bottom: 4px;\n",
              "    }\n",
              "\n",
              "    [theme=dark] .colab-df-convert {\n",
              "      background-color: #3B4455;\n",
              "      fill: #D2E3FC;\n",
              "    }\n",
              "\n",
              "    [theme=dark] .colab-df-convert:hover {\n",
              "      background-color: #434B5C;\n",
              "      box-shadow: 0px 1px 3px 1px rgba(0, 0, 0, 0.15);\n",
              "      filter: drop-shadow(0px 1px 2px rgba(0, 0, 0, 0.3));\n",
              "      fill: #FFFFFF;\n",
              "    }\n",
              "  </style>\n",
              "\n",
              "    <script>\n",
              "      const buttonEl =\n",
              "        document.querySelector('#df-cadb1f01-4074-4037-a1a7-17e23a19cda4 button.colab-df-convert');\n",
              "      buttonEl.style.display =\n",
              "        google.colab.kernel.accessAllowed ? 'block' : 'none';\n",
              "\n",
              "      async function convertToInteractive(key) {\n",
              "        const element = document.querySelector('#df-cadb1f01-4074-4037-a1a7-17e23a19cda4');\n",
              "        const dataTable =\n",
              "          await google.colab.kernel.invokeFunction('convertToInteractive',\n",
              "                                                    [key], {});\n",
              "        if (!dataTable) return;\n",
              "\n",
              "        const docLinkHtml = 'Like what you see? Visit the ' +\n",
              "          '<a target=\"_blank\" href=https://colab.research.google.com/notebooks/data_table.ipynb>data table notebook</a>'\n",
              "          + ' to learn more about interactive tables.';\n",
              "        element.innerHTML = '';\n",
              "        dataTable['output_type'] = 'display_data';\n",
              "        await google.colab.output.renderOutput(dataTable, element);\n",
              "        const docLink = document.createElement('div');\n",
              "        docLink.innerHTML = docLinkHtml;\n",
              "        element.appendChild(docLink);\n",
              "      }\n",
              "    </script>\n",
              "  </div>\n",
              "\n",
              "\n",
              "<div id=\"df-00585184-d782-4d82-a7b0-22356ac49a85\">\n",
              "  <button class=\"colab-df-quickchart\" onclick=\"quickchart('df-00585184-d782-4d82-a7b0-22356ac49a85')\"\n",
              "            title=\"Suggest charts\"\n",
              "            style=\"display:none;\">\n",
              "\n",
              "<svg xmlns=\"http://www.w3.org/2000/svg\" height=\"24px\"viewBox=\"0 0 24 24\"\n",
              "     width=\"24px\">\n",
              "    <g>\n",
              "        <path d=\"M19 3H5c-1.1 0-2 .9-2 2v14c0 1.1.9 2 2 2h14c1.1 0 2-.9 2-2V5c0-1.1-.9-2-2-2zM9 17H7v-7h2v7zm4 0h-2V7h2v10zm4 0h-2v-4h2v4z\"/>\n",
              "    </g>\n",
              "</svg>\n",
              "  </button>\n",
              "\n",
              "<style>\n",
              "  .colab-df-quickchart {\n",
              "      --bg-color: #E8F0FE;\n",
              "      --fill-color: #1967D2;\n",
              "      --hover-bg-color: #E2EBFA;\n",
              "      --hover-fill-color: #174EA6;\n",
              "      --disabled-fill-color: #AAA;\n",
              "      --disabled-bg-color: #DDD;\n",
              "  }\n",
              "\n",
              "  [theme=dark] .colab-df-quickchart {\n",
              "      --bg-color: #3B4455;\n",
              "      --fill-color: #D2E3FC;\n",
              "      --hover-bg-color: #434B5C;\n",
              "      --hover-fill-color: #FFFFFF;\n",
              "      --disabled-bg-color: #3B4455;\n",
              "      --disabled-fill-color: #666;\n",
              "  }\n",
              "\n",
              "  .colab-df-quickchart {\n",
              "    background-color: var(--bg-color);\n",
              "    border: none;\n",
              "    border-radius: 50%;\n",
              "    cursor: pointer;\n",
              "    display: none;\n",
              "    fill: var(--fill-color);\n",
              "    height: 32px;\n",
              "    padding: 0;\n",
              "    width: 32px;\n",
              "  }\n",
              "\n",
              "  .colab-df-quickchart:hover {\n",
              "    background-color: var(--hover-bg-color);\n",
              "    box-shadow: 0 1px 2px rgba(60, 64, 67, 0.3), 0 1px 3px 1px rgba(60, 64, 67, 0.15);\n",
              "    fill: var(--button-hover-fill-color);\n",
              "  }\n",
              "\n",
              "  .colab-df-quickchart-complete:disabled,\n",
              "  .colab-df-quickchart-complete:disabled:hover {\n",
              "    background-color: var(--disabled-bg-color);\n",
              "    fill: var(--disabled-fill-color);\n",
              "    box-shadow: none;\n",
              "  }\n",
              "\n",
              "  .colab-df-spinner {\n",
              "    border: 2px solid var(--fill-color);\n",
              "    border-color: transparent;\n",
              "    border-bottom-color: var(--fill-color);\n",
              "    animation:\n",
              "      spin 1s steps(1) infinite;\n",
              "  }\n",
              "\n",
              "  @keyframes spin {\n",
              "    0% {\n",
              "      border-color: transparent;\n",
              "      border-bottom-color: var(--fill-color);\n",
              "      border-left-color: var(--fill-color);\n",
              "    }\n",
              "    20% {\n",
              "      border-color: transparent;\n",
              "      border-left-color: var(--fill-color);\n",
              "      border-top-color: var(--fill-color);\n",
              "    }\n",
              "    30% {\n",
              "      border-color: transparent;\n",
              "      border-left-color: var(--fill-color);\n",
              "      border-top-color: var(--fill-color);\n",
              "      border-right-color: var(--fill-color);\n",
              "    }\n",
              "    40% {\n",
              "      border-color: transparent;\n",
              "      border-right-color: var(--fill-color);\n",
              "      border-top-color: var(--fill-color);\n",
              "    }\n",
              "    60% {\n",
              "      border-color: transparent;\n",
              "      border-right-color: var(--fill-color);\n",
              "    }\n",
              "    80% {\n",
              "      border-color: transparent;\n",
              "      border-right-color: var(--fill-color);\n",
              "      border-bottom-color: var(--fill-color);\n",
              "    }\n",
              "    90% {\n",
              "      border-color: transparent;\n",
              "      border-bottom-color: var(--fill-color);\n",
              "    }\n",
              "  }\n",
              "</style>\n",
              "\n",
              "  <script>\n",
              "    async function quickchart(key) {\n",
              "      const quickchartButtonEl =\n",
              "        document.querySelector('#' + key + ' button');\n",
              "      quickchartButtonEl.disabled = true;  // To prevent multiple clicks.\n",
              "      quickchartButtonEl.classList.add('colab-df-spinner');\n",
              "      try {\n",
              "        const charts = await google.colab.kernel.invokeFunction(\n",
              "            'suggestCharts', [key], {});\n",
              "      } catch (error) {\n",
              "        console.error('Error during call to suggestCharts:', error);\n",
              "      }\n",
              "      quickchartButtonEl.classList.remove('colab-df-spinner');\n",
              "      quickchartButtonEl.classList.add('colab-df-quickchart-complete');\n",
              "    }\n",
              "    (() => {\n",
              "      let quickchartButtonEl =\n",
              "        document.querySelector('#df-00585184-d782-4d82-a7b0-22356ac49a85 button');\n",
              "      quickchartButtonEl.style.display =\n",
              "        google.colab.kernel.accessAllowed ? 'block' : 'none';\n",
              "    })();\n",
              "  </script>\n",
              "</div>\n",
              "\n",
              "    </div>\n",
              "  </div>\n"
            ],
            "application/vnd.google.colaboratory.intrinsic+json": {
              "type": "dataframe",
              "summary": "{\n  \"name\": \"pg\",\n  \"rows\": 2,\n  \"fields\": [\n    {\n      \"column\": \"Source\",\n      \"properties\": {\n        \"dtype\": \"string\",\n        \"num_unique_values\": 2,\n        \"samples\": [\n          \"Error\",\n          \"Time\"\n        ],\n        \"semantic_type\": \"\",\n        \"description\": \"\"\n      }\n    },\n    {\n      \"column\": \"SS\",\n      \"properties\": {\n        \"dtype\": \"number\",\n        \"std\": 75.94227444188247,\n        \"min\": 7.6284283564927735,\n        \"max\": 115.02702282966264,\n        \"num_unique_values\": 2,\n        \"samples\": [\n          115.02702282966264,\n          7.6284283564927735\n        ],\n        \"semantic_type\": \"\",\n        \"description\": \"\"\n      }\n    },\n    {\n      \"column\": \"DF\",\n      \"properties\": {\n        \"dtype\": \"number\",\n        \"std\": 82,\n        \"min\": 2,\n        \"max\": 118,\n        \"num_unique_values\": 2,\n        \"samples\": [\n          118,\n          2\n        ],\n        \"semantic_type\": \"\",\n        \"description\": \"\"\n      }\n    },\n    {\n      \"column\": \"MS\",\n      \"properties\": {\n        \"dtype\": \"number\",\n        \"std\": 2.0077652877718757,\n        \"min\": 0.97480527821748,\n        \"max\": 3.8142141782463868,\n        \"num_unique_values\": 2,\n        \"samples\": [\n          0.97480527821748,\n          3.8142141782463868\n        ],\n        \"semantic_type\": \"\",\n        \"description\": \"\"\n      }\n    },\n    {\n      \"column\": \"F\",\n      \"properties\": {\n        \"dtype\": \"number\",\n        \"std\": null,\n        \"min\": 3.912795984466789,\n        \"max\": 3.912795984466789,\n        \"num_unique_values\": 1,\n        \"samples\": [\n          3.912795984466789\n        ],\n        \"semantic_type\": \"\",\n        \"description\": \"\"\n      }\n    },\n    {\n      \"column\": \"p-unc\",\n      \"properties\": {\n        \"dtype\": \"number\",\n        \"std\": null,\n        \"min\": 0.022629162231512668,\n        \"max\": 0.022629162231512668,\n        \"num_unique_values\": 1,\n        \"samples\": [\n          0.022629162231512668\n        ],\n        \"semantic_type\": \"\",\n        \"description\": \"\"\n      }\n    },\n    {\n      \"column\": \"ng2\",\n      \"properties\": {\n        \"dtype\": \"number\",\n        \"std\": null,\n        \"min\": 0.039980716606786176,\n        \"max\": 0.039980716606786176,\n        \"num_unique_values\": 1,\n        \"samples\": [\n          0.039980716606786176\n        ],\n        \"semantic_type\": \"\",\n        \"description\": \"\"\n      }\n    },\n    {\n      \"column\": \"eps\",\n      \"properties\": {\n        \"dtype\": \"number\",\n        \"std\": null,\n        \"min\": 0.9987508504966764,\n        \"max\": 0.9987508504966764,\n        \"num_unique_values\": 1,\n        \"samples\": [\n          0.9987508504966764\n        ],\n        \"semantic_type\": \"\",\n        \"description\": \"\"\n      }\n    }\n  ]\n}"
            }
          },
          "metadata": {},
          "execution_count": 53
        }
      ]
    },
    {
      "cell_type": "markdown",
      "source": [
        "# Nonparametric Statistical Hypothesis Tests\n",
        "\n",
        "## 1. Mann-Whitney U Test\n",
        "Tests whether the distributions of two independent samples are equal or not.\n",
        "\n",
        "Assumptions:\n",
        "\n",
        "* Observations in each sample are independent and identically distributed (iid).\n",
        "* Observations in each sample can be ranked.\n",
        "\n",
        "Interpretation:\n",
        "\n",
        "* H0: the distributions of both samples are equal.\n",
        "* H1: the distributions of both samples are not equal."
      ],
      "metadata": {
        "id": "OaUvKVje-BCT"
      }
    },
    {
      "cell_type": "code",
      "source": [
        "# Example of the Mann-Whitney U Test\n",
        "from scipy.stats import mannwhitneyu\n",
        "data1 = [0.873, 2.817, 0.121, -0.945, -0.055, -1.436, 0.360, -1.478, -1.637, -1.869]\n",
        "data2 = [1.142, -0.432, -0.938, -0.729, -0.846, -0.157, 0.500, 1.183, -1.075, -0.169]\n",
        "stat, p = mannwhitneyu(data1, data2)\n",
        "print('stat=%.3f, p=%.3f' % (stat, p))\n",
        "if p > 0.05:\n",
        " print('Probably the same distribution')\n",
        "else:\n",
        " print('Probably different distributions')"
      ],
      "metadata": {
        "colab": {
          "base_uri": "https://localhost:8080/"
        },
        "id": "T9kaWscM98Ey",
        "outputId": "9d10733e-da0c-4d3f-ff5e-0b310605004e"
      },
      "execution_count": 54,
      "outputs": [
        {
          "output_type": "stream",
          "name": "stdout",
          "text": [
            "stat=40.000, p=0.473\n",
            "Probably the same distribution\n"
          ]
        }
      ]
    },
    {
      "cell_type": "markdown",
      "source": [
        "## 2. Wilcoxon Signed-Rank Test\n",
        "Tests whether the distributions of two paired samples are equal or not.\n",
        "\n",
        "Assumptions:\n",
        "\n",
        "* Observations in each sample are independent and identically distributed (iid).\n",
        "* Observations in each sample can be ranked.\n",
        "* Observations across each sample are paired.\n",
        "\n",
        "Interpretation:\n",
        "\n",
        "* H0: the distributions of both samples are equal.\n",
        "* H1: the distributions of both samples are not equal."
      ],
      "metadata": {
        "id": "1ZyALgYS-duU"
      }
    },
    {
      "cell_type": "code",
      "source": [
        "# Example of the Wilcoxon Signed-Rank Test\n",
        "from scipy.stats import wilcoxon\n",
        "data1 = [0.873, 2.817, 0.121, -0.945, -0.055, -1.436, 0.360, -1.478, -1.637, -1.869]\n",
        "data2 = [1.142, -0.432, -0.938, -0.729, -0.846, -0.157, 0.500, 1.183, -1.075, -0.169]\n",
        "stat, p = wilcoxon(data1, data2)\n",
        "print('stat=%.3f, p=%.3f' % (stat, p))\n",
        "if p > 0.05:\n",
        " print('Probably the same distribution')\n",
        "else:\n",
        " print('Probably different distributions')"
      ],
      "metadata": {
        "colab": {
          "base_uri": "https://localhost:8080/"
        },
        "id": "BMGw857X-Mic",
        "outputId": "f8064ab2-19e0-42a8-fc53-353ac413e836"
      },
      "execution_count": 55,
      "outputs": [
        {
          "output_type": "stream",
          "name": "stdout",
          "text": [
            "stat=21.000, p=0.557\n",
            "Probably the same distribution\n"
          ]
        }
      ]
    },
    {
      "cell_type": "markdown",
      "source": [
        "## 3. Kruskal-Wallis H Test\n",
        "Tests whether the distributions of two or more independent samples are equal or not.\n",
        "\n",
        "Assumptions:\n",
        "\n",
        "* Observations in each sample are independent and identically distributed (iid).\n",
        "* Observations in each sample can be ranked.\n",
        "\n",
        "Interpretation:\n",
        "\n",
        "* H0: the distributions of all samples are equal.\n",
        "* H1: the distributions of one or more samples are not equal."
      ],
      "metadata": {
        "id": "9UduUc9q-sql"
      }
    },
    {
      "cell_type": "code",
      "source": [
        "# Example of the Kruskal-Wallis H Test\n",
        "from scipy.stats import kruskal\n",
        "data1 = [0.873, 2.817, 0.121, -0.945, -0.055, -1.436, 0.360, -1.478, -1.637, -1.869]\n",
        "data2 = [1.142, -0.432, -0.938, -0.729, -0.846, -0.157, 0.500, 1.183, -1.075, -0.169]\n",
        "stat, p = kruskal(data1, data2)\n",
        "print('stat=%.3f, p=%.3f' % (stat, p))\n",
        "if p > 0.05:\n",
        " print('Probably the same distribution')\n",
        "else:\n",
        " print('Probably different distributions')"
      ],
      "metadata": {
        "colab": {
          "base_uri": "https://localhost:8080/"
        },
        "id": "3qXwnEZX-m8J",
        "outputId": "5c5f32e4-257d-40f8-d88c-e144dc76ec43"
      },
      "execution_count": 56,
      "outputs": [
        {
          "output_type": "stream",
          "name": "stdout",
          "text": [
            "stat=0.571, p=0.450\n",
            "Probably the same distribution\n"
          ]
        }
      ]
    },
    {
      "cell_type": "markdown",
      "source": [
        "## 4. Friedman Test\n",
        "Tests whether the distributions of two or more paired samples are equal or not.\n",
        "\n",
        "Assumptions:\n",
        "\n",
        "* Observations in each sample are independent and identically distributed (iid).\n",
        "* Observations in each sample can be ranked.\n",
        "* Observations across each sample are paired.\n",
        "\n",
        "Interpretation:\n",
        "\n",
        "* H0: the distributions of all samples are equal.\n",
        "* H1: the distributions of one or more samples are not equal."
      ],
      "metadata": {
        "id": "8qqRLJel_DJh"
      }
    },
    {
      "cell_type": "code",
      "source": [
        "# Example of the Friedman Test\n",
        "from scipy.stats import friedmanchisquare\n",
        "data1 = [0.873, 2.817, 0.121, -0.945, -0.055, -1.436, 0.360, -1.478, -1.637, -1.869]\n",
        "data2 = [1.142, -0.432, -0.938, -0.729, -0.846, -0.157, 0.500, 1.183, -1.075, -0.169]\n",
        "data3 = [-0.208, 0.696, 0.928, -1.148, -0.213, 0.229, 0.137, 0.269, -0.870, -1.204]\n",
        "stat, p = friedmanchisquare(data1, data2, data3)\n",
        "print('stat=%.3f, p=%.3f' % (stat, p))\n",
        "if p > 0.05:\n",
        " print('Probably the same distribution')\n",
        "else:\n",
        " print('Probably different distributions')"
      ],
      "metadata": {
        "colab": {
          "base_uri": "https://localhost:8080/"
        },
        "id": "YPh_SZ3S-6-2",
        "outputId": "e7ceae2c-43d9-4d0d-85ee-5238f765739e"
      },
      "execution_count": 57,
      "outputs": [
        {
          "output_type": "stream",
          "name": "stdout",
          "text": [
            "stat=0.800, p=0.670\n",
            "Probably the same distribution\n"
          ]
        }
      ]
    },
    {
      "cell_type": "code",
      "source": [],
      "metadata": {
        "id": "e9y5IwEi_No-"
      },
      "execution_count": null,
      "outputs": []
    }
  ]
}