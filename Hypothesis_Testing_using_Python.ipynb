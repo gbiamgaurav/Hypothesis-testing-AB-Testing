{
  "nbformat": 4,
  "nbformat_minor": 0,
  "metadata": {
    "colab": {
      "provenance": [],
      "authorship_tag": "ABX9TyMZScuugms8aoAOeWwdtMoJ",
      "include_colab_link": true
    },
    "kernelspec": {
      "name": "python3",
      "display_name": "Python 3"
    },
    "language_info": {
      "name": "python"
    }
  },
  "cells": [
    {
      "cell_type": "markdown",
      "metadata": {
        "id": "view-in-github",
        "colab_type": "text"
      },
      "source": [
        "<a href=\"https://colab.research.google.com/github/gbiamgaurav/Hypothesis-testing-AB-Testing/blob/main/Hypothesis_Testing_using_Python.ipynb\" target=\"_parent\"><img src=\"https://colab.research.google.com/assets/colab-badge.svg\" alt=\"Open In Colab\"/></a>"
      ]
    },
    {
      "cell_type": "markdown",
      "source": [
        "## There are various techniques in Hypothesis Testing. Below are the Hypothesis Testing techniques:\n",
        "\n",
        "* One-Sample t-Test\n",
        "* Two-Sample t-Test\n",
        "* Chi-Square Test\n",
        "* ANOVA"
      ],
      "metadata": {
        "id": "YshSarTTv7lp"
      }
    },
    {
      "cell_type": "markdown",
      "source": [
        "## One-Sample t-Test\n",
        "\n",
        "The one-sample t-test determines if the mean (average) of a single group or sample is significantly different from a known population mean. It involves comparing the sample mean to the known population mean while considering the variability within the sample.\n",
        "\n",
        "* Example: Suppose you have a sample of test scores from a class. You want to test if their average is significantly different from the national average of 70."
      ],
      "metadata": {
        "id": "X1BHUVHjwi9U"
      }
    },
    {
      "cell_type": "code",
      "execution_count": 1,
      "metadata": {
        "id": "TFojQjj8vz1E"
      },
      "outputs": [],
      "source": [
        "import scipy.stats as stats\n",
        "import numpy as np"
      ]
    },
    {
      "cell_type": "code",
      "source": [
        "## sample data\n",
        "\n",
        "sample_scores = np.array([65, 78, 67, 72, 74, 62, 76, 70, 68, 71])\n",
        "\n",
        "## known population mean = 70\n",
        "\n",
        "population_mean = 70\n",
        "\n",
        "# perform one sample t test\n",
        "\n",
        "t_statistic, p_value = stats.ttest_1samp(sample_scores, population_mean)\n",
        "\n",
        "print(f\"t-statistic = {t_statistic}, p-value = {p_value}\")\n",
        "\n",
        "if p_value < 0.05:\n",
        "  print(\"Reject the null hypothesis\")\n",
        "else:\n",
        "  print(\"Fail to reject the null hypothesis\")"
      ],
      "metadata": {
        "colab": {
          "base_uri": "https://localhost:8080/"
        },
        "id": "1NqTAdSBxD6v",
        "outputId": "777fa690-19e8-4500-d1ef-1634ae816b7a"
      },
      "execution_count": 3,
      "outputs": [
        {
          "output_type": "stream",
          "name": "stdout",
          "text": [
            "t-statistic = 0.19097135526615505, p-value = 0.8527865916734706\n",
            "Fail to reject the null hypothesis\n"
          ]
        }
      ]
    },
    {
      "cell_type": "markdown",
      "source": [
        "## Two-Sample t-Test\n",
        "\n",
        "The two-sample t-test helps determine if there’s a significant difference between the means of two independent groups or samples. It assesses if the difference in sample means is statistically significant while accounting for the variability within each group.\n",
        "\n",
        "* Example: Comparing the average heights of two different groups of plants treated with different fertilizers."
      ],
      "metadata": {
        "id": "ai5OOzsUyaoj"
      }
    },
    {
      "cell_type": "code",
      "source": [
        "# Sample data: heights of plants with different fertilizers\n",
        "\n",
        "heights_fertilizer1 = np.array([15, 16, 17, 14, 16, 15, 16, 17])\n",
        "heights_fertilizer2 = np.array([14, 15, 15, 15, 16, 14, 15, 15])"
      ],
      "metadata": {
        "id": "L42w7aS7xyhh"
      },
      "execution_count": 4,
      "outputs": []
    },
    {
      "cell_type": "code",
      "source": [
        "# perform 2 sample ttest\n",
        "\n",
        "t_statistic, p_value = stats.ttest_ind(heights_fertilizer1, heights_fertilizer2)\n",
        "\n",
        "print(f\"t_statistic = {t_statistic}, p_value = {p_value}\")\n",
        "\n",
        "if p_value < 0.05:\n",
        "  print(\"Reject the null hypothesis\")\n",
        "else:\n",
        "  print(\"Fail to reject the null hypothesis\")"
      ],
      "metadata": {
        "colab": {
          "base_uri": "https://localhost:8080/"
        },
        "id": "1tElfb-qyqbG",
        "outputId": "90094a40-3e0e-465b-a7bc-e796bc960ccf"
      },
      "execution_count": 5,
      "outputs": [
        {
          "output_type": "stream",
          "name": "stdout",
          "text": [
            "t_statistic = 2.032862543430305, p_value = 0.06148225337599243\n",
            "Fail to reject the null hypothesis\n"
          ]
        }
      ]
    },
    {
      "cell_type": "markdown",
      "source": [
        "## Chi-Square Test\n",
        "\n",
        "The chi-square test assesses the association or independence between two categorical variables. It involves comparing the observed frequency of data with the expected frequency assuming independence. The larger the chi-square statistic, the less likely the variables are independent.\n",
        "\n",
        "* Example: Testing if there is an association between gender (male/female) and preference for a new product (like/dislike)."
      ],
      "metadata": {
        "id": "eWQT_5CozQGI"
      }
    },
    {
      "cell_type": "code",
      "source": [
        "# Rows: Gender, Columns: Product Preference\n",
        "data = np.array([[30, 10],  # 30 males like, 10 dislike\n",
        "                 [35, 5]])  # 35 females like, 5 dislike"
      ],
      "metadata": {
        "id": "7PNkmgW3zK9X"
      },
      "execution_count": 6,
      "outputs": []
    },
    {
      "cell_type": "code",
      "source": [
        "# perform chi-square test\n",
        "\n",
        "chi2_statistic, p_value, dof, expected = stats.chi2_contingency(data)\n",
        "\n",
        "print(f\"t_statistic = {t_statistic}, P-value = {p_value}, Degrees of Freedom = {dof}, Expected frequencies = {expected}\")\n",
        "\n",
        "if p_value < 0.05:\n",
        "  print(\"Reject the null hypothesis\")\n",
        "else:\n",
        "  print(\"Fail to reject the null hypothesis\")"
      ],
      "metadata": {
        "colab": {
          "base_uri": "https://localhost:8080/"
        },
        "id": "v8YmRJSSzgSf",
        "outputId": "c90a8106-ee8b-4be4-9d7d-d8be25caf073"
      },
      "execution_count": 8,
      "outputs": [
        {
          "output_type": "stream",
          "name": "stdout",
          "text": [
            "t_statistic = 2.032862543430305, P-value = 0.2518846204641586, Degrees of Freedom = 1, Expected frequencies = [[32.5  7.5]\n",
            " [32.5  7.5]]\n",
            "Fail to reject the null hypothesis\n"
          ]
        }
      ]
    },
    {
      "cell_type": "markdown",
      "source": [
        "## ANOVA (Analysis of Variance)\n",
        "\n",
        "ANOVA is used to analyze the differences among means of three or more groups. It tells you if there are statistically significant differences between these groups. ANOVA examines the variance within each group and between groups. It calculates an F-statistic to test if group means are equal.\n",
        "\n",
        "Example: Testing if three different diets have different effects on weight loss."
      ],
      "metadata": {
        "id": "ic7Fw0PT0E1A"
      }
    },
    {
      "cell_type": "code",
      "source": [
        "from scipy.stats import f_oneway"
      ],
      "metadata": {
        "id": "eSr-YES3zzt6"
      },
      "execution_count": 9,
      "outputs": []
    },
    {
      "cell_type": "code",
      "source": [
        "# Sample data: weight loss for three different diets\n",
        "\n",
        "diet1 = np.array([2, 3, 1, 2, 2])\n",
        "diet2 = np.array([4, 5, 4, 4, 5])\n",
        "diet3 = np.array([5, 6, 7, 6, 5])"
      ],
      "metadata": {
        "id": "UwWGcqBW0VSu"
      },
      "execution_count": 10,
      "outputs": []
    },
    {
      "cell_type": "code",
      "source": [
        "# Perform Annova\n",
        "\n",
        "f_statistic, p_value = f_oneway(diet1, diet2, diet3)\n",
        "\n",
        "print(f\"f_statistic = {f_statistic}, p_value = {p_value}\")\n",
        "\n",
        "if p_value < 0.05:\n",
        "  print(\"Reject the null hypothesis\")\n",
        "else:\n",
        "  print(\"Fail to reject the null hypothesis\")"
      ],
      "metadata": {
        "colab": {
          "base_uri": "https://localhost:8080/"
        },
        "id": "d8lRVx1G0XAO",
        "outputId": "fcd4866e-3af4-482e-f76c-51d988fe40a8"
      },
      "execution_count": 11,
      "outputs": [
        {
          "output_type": "stream",
          "name": "stdout",
          "text": [
            "f_statistic = 36.933333333333294, p_value = 7.449718327740603e-06\n",
            "Reject the null hypothesis\n"
          ]
        }
      ]
    },
    {
      "cell_type": "code",
      "source": [],
      "metadata": {
        "id": "WEQ87NLu02y2"
      },
      "execution_count": null,
      "outputs": []
    }
  ]
}